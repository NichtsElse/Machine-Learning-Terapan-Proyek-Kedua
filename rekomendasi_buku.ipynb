{
  "cells": [
    {
      "cell_type": "markdown",
      "id": "f53067ac",
      "metadata": {
        "id": "f53067ac"
      },
      "source": [
        "import libraries"
      ]
    },
    {
      "cell_type": "code",
      "execution_count": 1,
      "id": "391f7557",
      "metadata": {
        "_cell_guid": "b1076dfc-b9ad-4769-8c92-a6c4dae69d19",
        "_uuid": "8f2839f25d086af736a60e9eeb907d3b93b6e0e5",
        "execution": {
          "iopub.execute_input": "2022-10-28T17:15:58.116350Z",
          "iopub.status.busy": "2022-10-28T17:15:58.115657Z",
          "iopub.status.idle": "2022-10-28T17:15:59.051025Z",
          "shell.execute_reply": "2022-10-28T17:15:59.049888Z"
        },
        "id": "391f7557",
        "papermill": {
          "duration": 0.947556,
          "end_time": "2022-10-28T17:15:59.053669",
          "exception": false,
          "start_time": "2022-10-28T17:15:58.106113",
          "status": "completed"
        },
        "tags": []
      },
      "outputs": [],
      "source": [
        "import numpy as np\n",
        "import pandas as pd\n",
        "import seaborn as sns\n",
        "import matplotlib.pyplot as plt\n",
        "import os\n",
        "\n",
        "import warnings\n",
        "warnings.filterwarnings('ignore')\n",
        "import kagglehub\n",
        "\n"
      ]
    },
    {
      "cell_type": "markdown",
      "id": "58ba3543",
      "metadata": {
        "id": "58ba3543"
      },
      "source": [
        "### Data Preparation"
      ]
    },
    {
      "cell_type": "markdown",
      "id": "daf87c7e",
      "metadata": {
        "id": "daf87c7e"
      },
      "source": [
        "download dataset di kaggle"
      ]
    },
    {
      "cell_type": "code",
      "execution_count": 2,
      "id": "43c1a4be",
      "metadata": {
        "colab": {
          "base_uri": "https://localhost:8080/"
        },
        "id": "43c1a4be",
        "outputId": "bbd836d5-e712-420f-e654-d1378e32b61b"
      },
      "outputs": [
        {
          "name": "stdout",
          "output_type": "stream",
          "text": [
            "Path to dataset files: /root/.cache/kagglehub/datasets/arashnic/book-recommendation-dataset/versions/3\n"
          ]
        }
      ],
      "source": [
        "# download data dari kaggle\n",
        "path = kagglehub.dataset_download(\"arashnic/book-recommendation-dataset\")\n",
        "\n",
        "print(\"Path to dataset files:\", path)"
      ]
    },
    {
      "cell_type": "markdown",
      "id": "3c3ee445",
      "metadata": {
        "id": "3c3ee445"
      },
      "source": [
        "load data csv"
      ]
    },
    {
      "cell_type": "code",
      "execution_count": 3,
      "id": "cea1e6e2",
      "metadata": {
        "execution": {
          "iopub.execute_input": "2022-10-28T17:15:59.072922Z",
          "iopub.status.busy": "2022-10-28T17:15:59.072152Z",
          "iopub.status.idle": "2022-10-28T17:15:59.095853Z",
          "shell.execute_reply": "2022-10-28T17:15:59.094906Z"
        },
        "id": "cea1e6e2",
        "papermill": {
          "duration": 0.036975,
          "end_time": "2022-10-28T17:15:59.097857",
          "exception": false,
          "start_time": "2022-10-28T17:15:59.060882",
          "status": "completed"
        },
        "tags": []
      },
      "outputs": [],
      "source": [
        "book_df = pd.read_csv('/root/.cache/kagglehub/datasets/arashnic/book-recommendation-dataset/versions/3/Books.csv')\n",
        "ratings_df = pd.read_csv('/root/.cache/kagglehub/datasets/arashnic/book-recommendation-dataset/versions/3/Ratings.csv').sample(30000)\n",
        "user_df = pd.read_csv('/root/.cache/kagglehub/datasets/arashnic/book-recommendation-dataset/versions/3/Users.csv')\n"
      ]
    },
    {
      "cell_type": "markdown",
      "id": "39190be6",
      "metadata": {
        "id": "39190be6"
      },
      "source": [
        "Merge dataset"
      ]
    },
    {
      "cell_type": "code",
      "execution_count": 4,
      "id": "08eefebe",
      "metadata": {
        "colab": {
          "base_uri": "https://localhost:8080/",
          "height": 449
        },
        "id": "08eefebe",
        "outputId": "6661ec4a-79d9-4102-a9df-f2f5ae3962e2"
      },
      "outputs": [
        {
          "data": {
            "application/vnd.google.colaboratory.intrinsic+json": {
              "summary": "{\n  \"name\": \"merged_df\",\n  \"rows\": 26933,\n  \"fields\": [\n    {\n      \"column\": \"User-ID\",\n      \"properties\": {\n        \"dtype\": \"number\",\n        \"std\": 80293,\n        \"min\": 23,\n        \"max\": 278851,\n        \"num_unique_values\": 10327,\n        \"samples\": [\n          207052,\n          227072,\n          274656\n        ],\n        \"semantic_type\": \"\",\n        \"description\": \"\"\n      }\n    },\n    {\n      \"column\": \"ISBN\",\n      \"properties\": {\n        \"dtype\": \"string\",\n        \"num_unique_values\": 20493,\n        \"samples\": [\n          \"0671702262\",\n          \"0449213323\",\n          \"037302438X\"\n        ],\n        \"semantic_type\": \"\",\n        \"description\": \"\"\n      }\n    },\n    {\n      \"column\": \"Book-Rating\",\n      \"properties\": {\n        \"dtype\": \"number\",\n        \"std\": 3,\n        \"min\": 0,\n        \"max\": 10,\n        \"num_unique_values\": 11,\n        \"samples\": [\n          5,\n          8,\n          3\n        ],\n        \"semantic_type\": \"\",\n        \"description\": \"\"\n      }\n    },\n    {\n      \"column\": \"Book-Title\",\n      \"properties\": {\n        \"dtype\": \"string\",\n        \"num_unique_values\": 19363,\n        \"samples\": [\n          \"The Hundred Mile-An-Hour Dog\",\n          \"Merry Widows -- Mary (The Merry Widows) (Harlequin Historical Romances , Vol 372)\",\n          \"The Fellowship of the Ring (Lord of the Rings (Paperback))\"\n        ],\n        \"semantic_type\": \"\",\n        \"description\": \"\"\n      }\n    },\n    {\n      \"column\": \"Book-Author\",\n      \"properties\": {\n        \"dtype\": \"category\",\n        \"num_unique_values\": 10999,\n        \"samples\": [\n          \"Susan Isaacs\",\n          \"James P. Hogan\",\n          \"Glynn Marsh Alam\"\n        ],\n        \"semantic_type\": \"\",\n        \"description\": \"\"\n      }\n    },\n    {\n      \"column\": \"Year-Of-Publication\",\n      \"properties\": {\n        \"dtype\": \"category\",\n        \"num_unique_values\": 131,\n        \"samples\": [\n          1960,\n          \"1988\",\n          \"0\"\n        ],\n        \"semantic_type\": \"\",\n        \"description\": \"\"\n      }\n    },\n    {\n      \"column\": \"Publisher\",\n      \"properties\": {\n        \"dtype\": \"category\",\n        \"num_unique_values\": 2740,\n        \"samples\": [\n          \"Replica Books\",\n          \"Fischer (S.), Frankfurt\",\n          \"Random House (Merchandising)\"\n        ],\n        \"semantic_type\": \"\",\n        \"description\": \"\"\n      }\n    },\n    {\n      \"column\": \"Image-URL-S\",\n      \"properties\": {\n        \"dtype\": \"string\",\n        \"num_unique_values\": 20492,\n        \"samples\": [\n          \"http://images.amazon.com/images/P/0156027496.01.THUMBZZZ.jpg\",\n          \"http://images.amazon.com/images/P/0449213323.01.THUMBZZZ.jpg\",\n          \"http://images.amazon.com/images/P/037302438X.01.THUMBZZZ.jpg\"\n        ],\n        \"semantic_type\": \"\",\n        \"description\": \"\"\n      }\n    },\n    {\n      \"column\": \"Image-URL-M\",\n      \"properties\": {\n        \"dtype\": \"string\",\n        \"num_unique_values\": 20492,\n        \"samples\": [\n          \"http://images.amazon.com/images/P/0156027496.01.MZZZZZZZ.jpg\",\n          \"http://images.amazon.com/images/P/0449213323.01.MZZZZZZZ.jpg\",\n          \"http://images.amazon.com/images/P/037302438X.01.MZZZZZZZ.jpg\"\n        ],\n        \"semantic_type\": \"\",\n        \"description\": \"\"\n      }\n    },\n    {\n      \"column\": \"Image-URL-L\",\n      \"properties\": {\n        \"dtype\": \"string\",\n        \"num_unique_values\": 20492,\n        \"samples\": [\n          \"http://images.amazon.com/images/P/0156027496.01.LZZZZZZZ.jpg\",\n          \"http://images.amazon.com/images/P/0449213323.01.LZZZZZZZ.jpg\",\n          \"http://images.amazon.com/images/P/037302438X.01.LZZZZZZZ.jpg\"\n        ],\n        \"semantic_type\": \"\",\n        \"description\": \"\"\n      }\n    },\n    {\n      \"column\": \"Location\",\n      \"properties\": {\n        \"dtype\": \"category\",\n        \"num_unique_values\": 4852,\n        \"samples\": [\n          \"dallas, texas,\",\n          \"surfside beach, south carolina, usa\",\n          \"medina, ohio, usa\"\n        ],\n        \"semantic_type\": \"\",\n        \"description\": \"\"\n      }\n    },\n    {\n      \"column\": \"Age\",\n      \"properties\": {\n        \"dtype\": \"number\",\n        \"std\": 14.175902300003619,\n        \"min\": 0.0,\n        \"max\": 229.0,\n        \"num_unique_values\": 102,\n        \"samples\": [\n          1.0,\n          13.0,\n          57.0\n        ],\n        \"semantic_type\": \"\",\n        \"description\": \"\"\n      }\n    }\n  ]\n}",
              "type": "dataframe",
              "variable_name": "merged_df"
            },
            "text/html": [
              "\n",
              "  <div id=\"df-3b18a57a-4c9f-4847-9fc3-9e9c4087d80a\" class=\"colab-df-container\">\n",
              "    <div>\n",
              "<style scoped>\n",
              "    .dataframe tbody tr th:only-of-type {\n",
              "        vertical-align: middle;\n",
              "    }\n",
              "\n",
              "    .dataframe tbody tr th {\n",
              "        vertical-align: top;\n",
              "    }\n",
              "\n",
              "    .dataframe thead th {\n",
              "        text-align: right;\n",
              "    }\n",
              "</style>\n",
              "<table border=\"1\" class=\"dataframe\">\n",
              "  <thead>\n",
              "    <tr style=\"text-align: right;\">\n",
              "      <th></th>\n",
              "      <th>User-ID</th>\n",
              "      <th>ISBN</th>\n",
              "      <th>Book-Rating</th>\n",
              "      <th>Book-Title</th>\n",
              "      <th>Book-Author</th>\n",
              "      <th>Year-Of-Publication</th>\n",
              "      <th>Publisher</th>\n",
              "      <th>Image-URL-S</th>\n",
              "      <th>Image-URL-M</th>\n",
              "      <th>Image-URL-L</th>\n",
              "      <th>Location</th>\n",
              "      <th>Age</th>\n",
              "    </tr>\n",
              "  </thead>\n",
              "  <tbody>\n",
              "    <tr>\n",
              "      <th>0</th>\n",
              "      <td>177432</td>\n",
              "      <td>0380759500</td>\n",
              "      <td>8</td>\n",
              "      <td>Firefly</td>\n",
              "      <td>Piers Anthony</td>\n",
              "      <td>1992</td>\n",
              "      <td>Harper Mass Market Paperbacks (Mm)</td>\n",
              "      <td>http://images.amazon.com/images/P/0380759500.0...</td>\n",
              "      <td>http://images.amazon.com/images/P/0380759500.0...</td>\n",
              "      <td>http://images.amazon.com/images/P/0380759500.0...</td>\n",
              "      <td>wichita, kansas, usa</td>\n",
              "      <td>33.0</td>\n",
              "    </tr>\n",
              "    <tr>\n",
              "      <th>1</th>\n",
              "      <td>153563</td>\n",
              "      <td>0345413075</td>\n",
              "      <td>0</td>\n",
              "      <td>The Perfect Witness</td>\n",
              "      <td>Barry Siegel</td>\n",
              "      <td>1998</td>\n",
              "      <td>Ballantine Books</td>\n",
              "      <td>http://images.amazon.com/images/P/0345413075.0...</td>\n",
              "      <td>http://images.amazon.com/images/P/0345413075.0...</td>\n",
              "      <td>http://images.amazon.com/images/P/0345413075.0...</td>\n",
              "      <td>muncie, indiana, usa</td>\n",
              "      <td>NaN</td>\n",
              "    </tr>\n",
              "    <tr>\n",
              "      <th>2</th>\n",
              "      <td>100906</td>\n",
              "      <td>0140350357</td>\n",
              "      <td>8</td>\n",
              "      <td>Water Babies (Puffin Classics)</td>\n",
              "      <td>Charles Kingsley</td>\n",
              "      <td>1984</td>\n",
              "      <td>Puffin Books</td>\n",
              "      <td>http://images.amazon.com/images/P/0140350357.0...</td>\n",
              "      <td>http://images.amazon.com/images/P/0140350357.0...</td>\n",
              "      <td>http://images.amazon.com/images/P/0140350357.0...</td>\n",
              "      <td>seattle, washington, usa</td>\n",
              "      <td>34.0</td>\n",
              "    </tr>\n",
              "    <tr>\n",
              "      <th>3</th>\n",
              "      <td>89387</td>\n",
              "      <td>037570504X</td>\n",
              "      <td>6</td>\n",
              "      <td>Breath, Eyes, Memory</td>\n",
              "      <td>Edwidge Danticat</td>\n",
              "      <td>1998</td>\n",
              "      <td>Vintage Books USA</td>\n",
              "      <td>http://images.amazon.com/images/P/037570504X.0...</td>\n",
              "      <td>http://images.amazon.com/images/P/037570504X.0...</td>\n",
              "      <td>http://images.amazon.com/images/P/037570504X.0...</td>\n",
              "      <td>novato, california, usa</td>\n",
              "      <td>NaN</td>\n",
              "    </tr>\n",
              "    <tr>\n",
              "      <th>4</th>\n",
              "      <td>269566</td>\n",
              "      <td>0440586550</td>\n",
              "      <td>0</td>\n",
              "      <td>Thurston House</td>\n",
              "      <td>Danielle Steel</td>\n",
              "      <td>1983</td>\n",
              "      <td>Bantam Dell Pub Group</td>\n",
              "      <td>http://images.amazon.com/images/P/0440586550.0...</td>\n",
              "      <td>http://images.amazon.com/images/P/0440586550.0...</td>\n",
              "      <td>http://images.amazon.com/images/P/0440586550.0...</td>\n",
              "      <td>seattle, washington, usa</td>\n",
              "      <td>9.0</td>\n",
              "    </tr>\n",
              "  </tbody>\n",
              "</table>\n",
              "</div>\n",
              "    <div class=\"colab-df-buttons\">\n",
              "\n",
              "  <div class=\"colab-df-container\">\n",
              "    <button class=\"colab-df-convert\" onclick=\"convertToInteractive('df-3b18a57a-4c9f-4847-9fc3-9e9c4087d80a')\"\n",
              "            title=\"Convert this dataframe to an interactive table.\"\n",
              "            style=\"display:none;\">\n",
              "\n",
              "  <svg xmlns=\"http://www.w3.org/2000/svg\" height=\"24px\" viewBox=\"0 -960 960 960\">\n",
              "    <path d=\"M120-120v-720h720v720H120Zm60-500h600v-160H180v160Zm220 220h160v-160H400v160Zm0 220h160v-160H400v160ZM180-400h160v-160H180v160Zm440 0h160v-160H620v160ZM180-180h160v-160H180v160Zm440 0h160v-160H620v160Z\"/>\n",
              "  </svg>\n",
              "    </button>\n",
              "\n",
              "  <style>\n",
              "    .colab-df-container {\n",
              "      display:flex;\n",
              "      gap: 12px;\n",
              "    }\n",
              "\n",
              "    .colab-df-convert {\n",
              "      background-color: #E8F0FE;\n",
              "      border: none;\n",
              "      border-radius: 50%;\n",
              "      cursor: pointer;\n",
              "      display: none;\n",
              "      fill: #1967D2;\n",
              "      height: 32px;\n",
              "      padding: 0 0 0 0;\n",
              "      width: 32px;\n",
              "    }\n",
              "\n",
              "    .colab-df-convert:hover {\n",
              "      background-color: #E2EBFA;\n",
              "      box-shadow: 0px 1px 2px rgba(60, 64, 67, 0.3), 0px 1px 3px 1px rgba(60, 64, 67, 0.15);\n",
              "      fill: #174EA6;\n",
              "    }\n",
              "\n",
              "    .colab-df-buttons div {\n",
              "      margin-bottom: 4px;\n",
              "    }\n",
              "\n",
              "    [theme=dark] .colab-df-convert {\n",
              "      background-color: #3B4455;\n",
              "      fill: #D2E3FC;\n",
              "    }\n",
              "\n",
              "    [theme=dark] .colab-df-convert:hover {\n",
              "      background-color: #434B5C;\n",
              "      box-shadow: 0px 1px 3px 1px rgba(0, 0, 0, 0.15);\n",
              "      filter: drop-shadow(0px 1px 2px rgba(0, 0, 0, 0.3));\n",
              "      fill: #FFFFFF;\n",
              "    }\n",
              "  </style>\n",
              "\n",
              "    <script>\n",
              "      const buttonEl =\n",
              "        document.querySelector('#df-3b18a57a-4c9f-4847-9fc3-9e9c4087d80a button.colab-df-convert');\n",
              "      buttonEl.style.display =\n",
              "        google.colab.kernel.accessAllowed ? 'block' : 'none';\n",
              "\n",
              "      async function convertToInteractive(key) {\n",
              "        const element = document.querySelector('#df-3b18a57a-4c9f-4847-9fc3-9e9c4087d80a');\n",
              "        const dataTable =\n",
              "          await google.colab.kernel.invokeFunction('convertToInteractive',\n",
              "                                                    [key], {});\n",
              "        if (!dataTable) return;\n",
              "\n",
              "        const docLinkHtml = 'Like what you see? Visit the ' +\n",
              "          '<a target=\"_blank\" href=https://colab.research.google.com/notebooks/data_table.ipynb>data table notebook</a>'\n",
              "          + ' to learn more about interactive tables.';\n",
              "        element.innerHTML = '';\n",
              "        dataTable['output_type'] = 'display_data';\n",
              "        await google.colab.output.renderOutput(dataTable, element);\n",
              "        const docLink = document.createElement('div');\n",
              "        docLink.innerHTML = docLinkHtml;\n",
              "        element.appendChild(docLink);\n",
              "      }\n",
              "    </script>\n",
              "  </div>\n",
              "\n",
              "\n",
              "<div id=\"df-74536a9f-6712-4c2f-90aa-88f2e13efba8\">\n",
              "  <button class=\"colab-df-quickchart\" onclick=\"quickchart('df-74536a9f-6712-4c2f-90aa-88f2e13efba8')\"\n",
              "            title=\"Suggest charts\"\n",
              "            style=\"display:none;\">\n",
              "\n",
              "<svg xmlns=\"http://www.w3.org/2000/svg\" height=\"24px\"viewBox=\"0 0 24 24\"\n",
              "     width=\"24px\">\n",
              "    <g>\n",
              "        <path d=\"M19 3H5c-1.1 0-2 .9-2 2v14c0 1.1.9 2 2 2h14c1.1 0 2-.9 2-2V5c0-1.1-.9-2-2-2zM9 17H7v-7h2v7zm4 0h-2V7h2v10zm4 0h-2v-4h2v4z\"/>\n",
              "    </g>\n",
              "</svg>\n",
              "  </button>\n",
              "\n",
              "<style>\n",
              "  .colab-df-quickchart {\n",
              "      --bg-color: #E8F0FE;\n",
              "      --fill-color: #1967D2;\n",
              "      --hover-bg-color: #E2EBFA;\n",
              "      --hover-fill-color: #174EA6;\n",
              "      --disabled-fill-color: #AAA;\n",
              "      --disabled-bg-color: #DDD;\n",
              "  }\n",
              "\n",
              "  [theme=dark] .colab-df-quickchart {\n",
              "      --bg-color: #3B4455;\n",
              "      --fill-color: #D2E3FC;\n",
              "      --hover-bg-color: #434B5C;\n",
              "      --hover-fill-color: #FFFFFF;\n",
              "      --disabled-bg-color: #3B4455;\n",
              "      --disabled-fill-color: #666;\n",
              "  }\n",
              "\n",
              "  .colab-df-quickchart {\n",
              "    background-color: var(--bg-color);\n",
              "    border: none;\n",
              "    border-radius: 50%;\n",
              "    cursor: pointer;\n",
              "    display: none;\n",
              "    fill: var(--fill-color);\n",
              "    height: 32px;\n",
              "    padding: 0;\n",
              "    width: 32px;\n",
              "  }\n",
              "\n",
              "  .colab-df-quickchart:hover {\n",
              "    background-color: var(--hover-bg-color);\n",
              "    box-shadow: 0 1px 2px rgba(60, 64, 67, 0.3), 0 1px 3px 1px rgba(60, 64, 67, 0.15);\n",
              "    fill: var(--button-hover-fill-color);\n",
              "  }\n",
              "\n",
              "  .colab-df-quickchart-complete:disabled,\n",
              "  .colab-df-quickchart-complete:disabled:hover {\n",
              "    background-color: var(--disabled-bg-color);\n",
              "    fill: var(--disabled-fill-color);\n",
              "    box-shadow: none;\n",
              "  }\n",
              "\n",
              "  .colab-df-spinner {\n",
              "    border: 2px solid var(--fill-color);\n",
              "    border-color: transparent;\n",
              "    border-bottom-color: var(--fill-color);\n",
              "    animation:\n",
              "      spin 1s steps(1) infinite;\n",
              "  }\n",
              "\n",
              "  @keyframes spin {\n",
              "    0% {\n",
              "      border-color: transparent;\n",
              "      border-bottom-color: var(--fill-color);\n",
              "      border-left-color: var(--fill-color);\n",
              "    }\n",
              "    20% {\n",
              "      border-color: transparent;\n",
              "      border-left-color: var(--fill-color);\n",
              "      border-top-color: var(--fill-color);\n",
              "    }\n",
              "    30% {\n",
              "      border-color: transparent;\n",
              "      border-left-color: var(--fill-color);\n",
              "      border-top-color: var(--fill-color);\n",
              "      border-right-color: var(--fill-color);\n",
              "    }\n",
              "    40% {\n",
              "      border-color: transparent;\n",
              "      border-right-color: var(--fill-color);\n",
              "      border-top-color: var(--fill-color);\n",
              "    }\n",
              "    60% {\n",
              "      border-color: transparent;\n",
              "      border-right-color: var(--fill-color);\n",
              "    }\n",
              "    80% {\n",
              "      border-color: transparent;\n",
              "      border-right-color: var(--fill-color);\n",
              "      border-bottom-color: var(--fill-color);\n",
              "    }\n",
              "    90% {\n",
              "      border-color: transparent;\n",
              "      border-bottom-color: var(--fill-color);\n",
              "    }\n",
              "  }\n",
              "</style>\n",
              "\n",
              "  <script>\n",
              "    async function quickchart(key) {\n",
              "      const quickchartButtonEl =\n",
              "        document.querySelector('#' + key + ' button');\n",
              "      quickchartButtonEl.disabled = true;  // To prevent multiple clicks.\n",
              "      quickchartButtonEl.classList.add('colab-df-spinner');\n",
              "      try {\n",
              "        const charts = await google.colab.kernel.invokeFunction(\n",
              "            'suggestCharts', [key], {});\n",
              "      } catch (error) {\n",
              "        console.error('Error during call to suggestCharts:', error);\n",
              "      }\n",
              "      quickchartButtonEl.classList.remove('colab-df-spinner');\n",
              "      quickchartButtonEl.classList.add('colab-df-quickchart-complete');\n",
              "    }\n",
              "    (() => {\n",
              "      let quickchartButtonEl =\n",
              "        document.querySelector('#df-74536a9f-6712-4c2f-90aa-88f2e13efba8 button');\n",
              "      quickchartButtonEl.style.display =\n",
              "        google.colab.kernel.accessAllowed ? 'block' : 'none';\n",
              "    })();\n",
              "  </script>\n",
              "</div>\n",
              "\n",
              "    </div>\n",
              "  </div>\n"
            ],
            "text/plain": [
              "   User-ID        ISBN  Book-Rating                      Book-Title  \\\n",
              "0   177432  0380759500            8                         Firefly   \n",
              "1   153563  0345413075            0             The Perfect Witness   \n",
              "2   100906  0140350357            8  Water Babies (Puffin Classics)   \n",
              "3    89387  037570504X            6            Breath, Eyes, Memory   \n",
              "4   269566  0440586550            0                  Thurston House   \n",
              "\n",
              "        Book-Author Year-Of-Publication                           Publisher  \\\n",
              "0     Piers Anthony                1992  Harper Mass Market Paperbacks (Mm)   \n",
              "1      Barry Siegel                1998                    Ballantine Books   \n",
              "2  Charles Kingsley                1984                        Puffin Books   \n",
              "3  Edwidge Danticat                1998                   Vintage Books USA   \n",
              "4    Danielle Steel                1983               Bantam Dell Pub Group   \n",
              "\n",
              "                                         Image-URL-S  \\\n",
              "0  http://images.amazon.com/images/P/0380759500.0...   \n",
              "1  http://images.amazon.com/images/P/0345413075.0...   \n",
              "2  http://images.amazon.com/images/P/0140350357.0...   \n",
              "3  http://images.amazon.com/images/P/037570504X.0...   \n",
              "4  http://images.amazon.com/images/P/0440586550.0...   \n",
              "\n",
              "                                         Image-URL-M  \\\n",
              "0  http://images.amazon.com/images/P/0380759500.0...   \n",
              "1  http://images.amazon.com/images/P/0345413075.0...   \n",
              "2  http://images.amazon.com/images/P/0140350357.0...   \n",
              "3  http://images.amazon.com/images/P/037570504X.0...   \n",
              "4  http://images.amazon.com/images/P/0440586550.0...   \n",
              "\n",
              "                                         Image-URL-L  \\\n",
              "0  http://images.amazon.com/images/P/0380759500.0...   \n",
              "1  http://images.amazon.com/images/P/0345413075.0...   \n",
              "2  http://images.amazon.com/images/P/0140350357.0...   \n",
              "3  http://images.amazon.com/images/P/037570504X.0...   \n",
              "4  http://images.amazon.com/images/P/0440586550.0...   \n",
              "\n",
              "                   Location   Age  \n",
              "0      wichita, kansas, usa  33.0  \n",
              "1      muncie, indiana, usa   NaN  \n",
              "2  seattle, washington, usa  34.0  \n",
              "3   novato, california, usa   NaN  \n",
              "4  seattle, washington, usa   9.0  "
            ]
          },
          "execution_count": 4,
          "metadata": {},
          "output_type": "execute_result"
        }
      ],
      "source": [
        "# Menggabungkan semua dataset berdasarkan User-ID dan ISBN\n",
        "merged_df = pd.merge(ratings_df, book_df, on='ISBN', how='inner')\n",
        "merged_df = pd.merge(merged_df, user_df, on='User-ID', how='inner')\n",
        "\n",
        "# Menampilkan 5 data teratas dari dataframe yang telah digabungkan\n",
        "merged_df.head()"
      ]
    },
    {
      "cell_type": "code",
      "execution_count": 5,
      "id": "5e2c985c",
      "metadata": {
        "colab": {
          "base_uri": "https://localhost:8080/"
        },
        "id": "5e2c985c",
        "outputId": "9cf86804-6be3-45d7-e8ea-8ecce38eb84a"
      },
      "outputs": [
        {
          "name": "stdout",
          "output_type": "stream",
          "text": [
            "<class 'pandas.core.frame.DataFrame'>\n",
            "RangeIndex: 26933 entries, 0 to 26932\n",
            "Data columns (total 12 columns):\n",
            " #   Column               Non-Null Count  Dtype  \n",
            "---  ------               --------------  -----  \n",
            " 0   User-ID              26933 non-null  int64  \n",
            " 1   ISBN                 26933 non-null  object \n",
            " 2   Book-Rating          26933 non-null  int64  \n",
            " 3   Book-Title           26933 non-null  object \n",
            " 4   Book-Author          26933 non-null  object \n",
            " 5   Year-Of-Publication  26933 non-null  object \n",
            " 6   Publisher            26933 non-null  object \n",
            " 7   Image-URL-S          26933 non-null  object \n",
            " 8   Image-URL-M          26933 non-null  object \n",
            " 9   Image-URL-L          26933 non-null  object \n",
            " 10  Location             26933 non-null  object \n",
            " 11  Age                  19644 non-null  float64\n",
            "dtypes: float64(1), int64(2), object(9)\n",
            "memory usage: 2.5+ MB\n"
          ]
        }
      ],
      "source": [
        "merged_df.info()"
      ]
    },
    {
      "cell_type": "markdown",
      "id": "0f001ef2",
      "metadata": {
        "id": "0f001ef2"
      },
      "source": [
        "### Data Cleaning"
      ]
    },
    {
      "cell_type": "markdown",
      "id": "e46cb98d",
      "metadata": {
        "id": "e46cb98d"
      },
      "source": [
        "cek duplikat"
      ]
    },
    {
      "cell_type": "code",
      "execution_count": 6,
      "id": "647c723e",
      "metadata": {
        "colab": {
          "base_uri": "https://localhost:8080/"
        },
        "id": "647c723e",
        "outputId": "c454b076-8793-49a0-e86a-1d12a13d6657"
      },
      "outputs": [
        {
          "data": {
            "text/plain": [
              "0"
            ]
          },
          "execution_count": 6,
          "metadata": {},
          "output_type": "execute_result"
        }
      ],
      "source": [
        "merged_df.duplicated().sum()"
      ]
    },
    {
      "cell_type": "markdown",
      "id": "39116557",
      "metadata": {
        "id": "39116557"
      },
      "source": [
        "cek missing value"
      ]
    },
    {
      "cell_type": "code",
      "execution_count": 7,
      "id": "ee2a19cc",
      "metadata": {
        "colab": {
          "base_uri": "https://localhost:8080/",
          "height": 460
        },
        "execution": {
          "iopub.execute_input": "2022-10-28T17:15:59.234366Z",
          "iopub.status.busy": "2022-10-28T17:15:59.233744Z",
          "iopub.status.idle": "2022-10-28T17:15:59.244664Z",
          "shell.execute_reply": "2022-10-28T17:15:59.243689Z"
        },
        "id": "ee2a19cc",
        "outputId": "51bf62ba-ed70-473f-d2db-bdccd9d4aab6",
        "papermill": {
          "duration": 0.025062,
          "end_time": "2022-10-28T17:15:59.246641",
          "exception": false,
          "start_time": "2022-10-28T17:15:59.221579",
          "status": "completed"
        },
        "tags": []
      },
      "outputs": [
        {
          "data": {
            "text/html": [
              "<div>\n",
              "<style scoped>\n",
              "    .dataframe tbody tr th:only-of-type {\n",
              "        vertical-align: middle;\n",
              "    }\n",
              "\n",
              "    .dataframe tbody tr th {\n",
              "        vertical-align: top;\n",
              "    }\n",
              "\n",
              "    .dataframe thead th {\n",
              "        text-align: right;\n",
              "    }\n",
              "</style>\n",
              "<table border=\"1\" class=\"dataframe\">\n",
              "  <thead>\n",
              "    <tr style=\"text-align: right;\">\n",
              "      <th></th>\n",
              "      <th>0</th>\n",
              "    </tr>\n",
              "  </thead>\n",
              "  <tbody>\n",
              "    <tr>\n",
              "      <th>User-ID</th>\n",
              "      <td>0</td>\n",
              "    </tr>\n",
              "    <tr>\n",
              "      <th>ISBN</th>\n",
              "      <td>0</td>\n",
              "    </tr>\n",
              "    <tr>\n",
              "      <th>Book-Rating</th>\n",
              "      <td>0</td>\n",
              "    </tr>\n",
              "    <tr>\n",
              "      <th>Book-Title</th>\n",
              "      <td>0</td>\n",
              "    </tr>\n",
              "    <tr>\n",
              "      <th>Book-Author</th>\n",
              "      <td>0</td>\n",
              "    </tr>\n",
              "    <tr>\n",
              "      <th>Year-Of-Publication</th>\n",
              "      <td>0</td>\n",
              "    </tr>\n",
              "    <tr>\n",
              "      <th>Publisher</th>\n",
              "      <td>0</td>\n",
              "    </tr>\n",
              "    <tr>\n",
              "      <th>Image-URL-S</th>\n",
              "      <td>0</td>\n",
              "    </tr>\n",
              "    <tr>\n",
              "      <th>Image-URL-M</th>\n",
              "      <td>0</td>\n",
              "    </tr>\n",
              "    <tr>\n",
              "      <th>Image-URL-L</th>\n",
              "      <td>0</td>\n",
              "    </tr>\n",
              "    <tr>\n",
              "      <th>Location</th>\n",
              "      <td>0</td>\n",
              "    </tr>\n",
              "    <tr>\n",
              "      <th>Age</th>\n",
              "      <td>7289</td>\n",
              "    </tr>\n",
              "  </tbody>\n",
              "</table>\n",
              "</div><br><label><b>dtype:</b> int64</label>"
            ],
            "text/plain": [
              "User-ID                   0\n",
              "ISBN                      0\n",
              "Book-Rating               0\n",
              "Book-Title                0\n",
              "Book-Author               0\n",
              "Year-Of-Publication       0\n",
              "Publisher                 0\n",
              "Image-URL-S               0\n",
              "Image-URL-M               0\n",
              "Image-URL-L               0\n",
              "Location                  0\n",
              "Age                    7289\n",
              "dtype: int64"
            ]
          },
          "execution_count": 7,
          "metadata": {},
          "output_type": "execute_result"
        }
      ],
      "source": [
        "#cek null pada dataframe\n",
        "merged_df.isnull().sum()"
      ]
    },
    {
      "cell_type": "markdown",
      "id": "4d25e7eb",
      "metadata": {
        "id": "4d25e7eb"
      },
      "source": [
        "cek ukuran dataframe"
      ]
    },
    {
      "cell_type": "code",
      "execution_count": 8,
      "id": "fc47c0d4",
      "metadata": {
        "colab": {
          "base_uri": "https://localhost:8080/"
        },
        "execution": {
          "iopub.execute_input": "2022-10-28T17:15:59.280135Z",
          "iopub.status.busy": "2022-10-28T17:15:59.279532Z",
          "iopub.status.idle": "2022-10-28T17:15:59.284747Z",
          "shell.execute_reply": "2022-10-28T17:15:59.283897Z"
        },
        "id": "fc47c0d4",
        "outputId": "fece1c2b-432f-4539-dfdb-747346470c8e",
        "papermill": {
          "duration": 0.015282,
          "end_time": "2022-10-28T17:15:59.286545",
          "exception": false,
          "start_time": "2022-10-28T17:15:59.271263",
          "status": "completed"
        },
        "tags": []
      },
      "outputs": [
        {
          "data": {
            "text/plain": [
              "(26933, 12)"
            ]
          },
          "execution_count": 8,
          "metadata": {},
          "output_type": "execute_result"
        }
      ],
      "source": [
        "merged_df.shape"
      ]
    },
    {
      "cell_type": "markdown",
      "id": "fb84eda5",
      "metadata": {
        "id": "fb84eda5"
      },
      "source": [
        "cek jumlah data keseluruhan"
      ]
    },
    {
      "cell_type": "code",
      "execution_count": 9,
      "id": "be904a1d",
      "metadata": {
        "colab": {
          "base_uri": "https://localhost:8080/"
        },
        "execution": {
          "iopub.execute_input": "2022-10-28T17:15:59.302034Z",
          "iopub.status.busy": "2022-10-28T17:15:59.301499Z",
          "iopub.status.idle": "2022-10-28T17:15:59.306874Z",
          "shell.execute_reply": "2022-10-28T17:15:59.306042Z"
        },
        "id": "be904a1d",
        "outputId": "041b1e31-5775-4add-b5cc-87886f85dea8",
        "papermill": {
          "duration": 0.015039,
          "end_time": "2022-10-28T17:15:59.308719",
          "exception": false,
          "start_time": "2022-10-28T17:15:59.293680",
          "status": "completed"
        },
        "tags": []
      },
      "outputs": [
        {
          "data": {
            "text/plain": [
              "323196"
            ]
          },
          "execution_count": 9,
          "metadata": {},
          "output_type": "execute_result"
        }
      ],
      "source": [
        "merged_df.size"
      ]
    },
    {
      "cell_type": "markdown",
      "id": "209c7820",
      "metadata": {
        "id": "209c7820"
      },
      "source": [
        "berdasarkan hasil cek data  memiliki banyak missing value"
      ]
    },
    {
      "cell_type": "markdown",
      "id": "ad9dde1c",
      "metadata": {
        "id": "ad9dde1c"
      },
      "source": [
        "### EDA"
      ]
    },
    {
      "cell_type": "markdown",
      "id": "d8ffa5f8",
      "metadata": {
        "id": "d8ffa5f8"
      },
      "source": [
        "cek unique value"
      ]
    },
    {
      "cell_type": "code",
      "execution_count": 10,
      "id": "e8871a3c",
      "metadata": {
        "colab": {
          "base_uri": "https://localhost:8080/",
          "height": 460
        },
        "execution": {
          "iopub.execute_input": "2022-10-28T17:15:59.324274Z",
          "iopub.status.busy": "2022-10-28T17:15:59.323526Z",
          "iopub.status.idle": "2022-10-28T17:15:59.338168Z",
          "shell.execute_reply": "2022-10-28T17:15:59.337550Z"
        },
        "id": "e8871a3c",
        "outputId": "8e227fed-0743-4746-bf73-f2fa18cfdc81",
        "papermill": {
          "duration": 0.024132,
          "end_time": "2022-10-28T17:15:59.339866",
          "exception": false,
          "start_time": "2022-10-28T17:15:59.315734",
          "status": "completed"
        },
        "tags": []
      },
      "outputs": [
        {
          "data": {
            "text/html": [
              "<div>\n",
              "<style scoped>\n",
              "    .dataframe tbody tr th:only-of-type {\n",
              "        vertical-align: middle;\n",
              "    }\n",
              "\n",
              "    .dataframe tbody tr th {\n",
              "        vertical-align: top;\n",
              "    }\n",
              "\n",
              "    .dataframe thead th {\n",
              "        text-align: right;\n",
              "    }\n",
              "</style>\n",
              "<table border=\"1\" class=\"dataframe\">\n",
              "  <thead>\n",
              "    <tr style=\"text-align: right;\">\n",
              "      <th></th>\n",
              "      <th>0</th>\n",
              "    </tr>\n",
              "  </thead>\n",
              "  <tbody>\n",
              "    <tr>\n",
              "      <th>User-ID</th>\n",
              "      <td>10327</td>\n",
              "    </tr>\n",
              "    <tr>\n",
              "      <th>ISBN</th>\n",
              "      <td>20493</td>\n",
              "    </tr>\n",
              "    <tr>\n",
              "      <th>Book-Rating</th>\n",
              "      <td>11</td>\n",
              "    </tr>\n",
              "    <tr>\n",
              "      <th>Book-Title</th>\n",
              "      <td>19363</td>\n",
              "    </tr>\n",
              "    <tr>\n",
              "      <th>Book-Author</th>\n",
              "      <td>10999</td>\n",
              "    </tr>\n",
              "    <tr>\n",
              "      <th>Year-Of-Publication</th>\n",
              "      <td>131</td>\n",
              "    </tr>\n",
              "    <tr>\n",
              "      <th>Publisher</th>\n",
              "      <td>2740</td>\n",
              "    </tr>\n",
              "    <tr>\n",
              "      <th>Image-URL-S</th>\n",
              "      <td>20492</td>\n",
              "    </tr>\n",
              "    <tr>\n",
              "      <th>Image-URL-M</th>\n",
              "      <td>20492</td>\n",
              "    </tr>\n",
              "    <tr>\n",
              "      <th>Image-URL-L</th>\n",
              "      <td>20492</td>\n",
              "    </tr>\n",
              "    <tr>\n",
              "      <th>Location</th>\n",
              "      <td>4852</td>\n",
              "    </tr>\n",
              "    <tr>\n",
              "      <th>Age</th>\n",
              "      <td>102</td>\n",
              "    </tr>\n",
              "  </tbody>\n",
              "</table>\n",
              "</div><br><label><b>dtype:</b> int64</label>"
            ],
            "text/plain": [
              "User-ID                10327\n",
              "ISBN                   20493\n",
              "Book-Rating               11\n",
              "Book-Title             19363\n",
              "Book-Author            10999\n",
              "Year-Of-Publication      131\n",
              "Publisher               2740\n",
              "Image-URL-S            20492\n",
              "Image-URL-M            20492\n",
              "Image-URL-L            20492\n",
              "Location                4852\n",
              "Age                      102\n",
              "dtype: int64"
            ]
          },
          "execution_count": 10,
          "metadata": {},
          "output_type": "execute_result"
        }
      ],
      "source": [
        "# melihat nilai unik setiap variabel\n",
        "merged_df.nunique()"
      ]
    },
    {
      "cell_type": "markdown",
      "id": "08a02d6d",
      "metadata": {
        "id": "08a02d6d"
      },
      "source": [
        "drop id karna tidak memiliki korelasi apapun"
      ]
    },
    {
      "cell_type": "code",
      "execution_count": 11,
      "id": "afbfa009",
      "metadata": {
        "id": "afbfa009"
      },
      "outputs": [],
      "source": [
        "# menghilangkan data image url S dan M dari merged_df\n",
        "df=merged_df.drop(['Image-URL-M','Image-URL-S'],axis=1)"
      ]
    },
    {
      "cell_type": "markdown",
      "id": "cd295ab1",
      "metadata": {
        "id": "cd295ab1"
      },
      "source": [
        "### Univariate Analysis\n"
      ]
    },
    {
      "cell_type": "markdown",
      "id": "07d9b3ea",
      "metadata": {
        "id": "07d9b3ea"
      },
      "source": [
        "visualisasi Distribusi Rating"
      ]
    },
    {
      "cell_type": "code",
      "execution_count": 12,
      "id": "35d34708",
      "metadata": {
        "colab": {
          "base_uri": "https://localhost:8080/",
          "height": 564
        },
        "id": "35d34708",
        "outputId": "9aa048d3-2e0e-4161-eba0-28a52081c6b1"
      },
      "outputs": [
        {
          "data": {
            "image/png": "[encoded data removed]",
            "text/plain": [
              "<Figure size 1000x600 with 1 Axes>"
            ]
          },
          "metadata": {},
          "output_type": "display_data"
        }
      ],
      "source": [
        "# Distribusi Rating\n",
        "plt.figure(figsize=(10, 6))\n",
        "sns.histplot(df['Book-Rating'], bins=10, kde=True)\n",
        "plt.title('Distribusi Rating Buku')\n",
        "plt.xlabel('Rating')\n",
        "plt.ylabel('Jumlah')\n",
        "plt.show()"
      ]
    },
    {
      "cell_type": "markdown",
      "id": "220c412b",
      "metadata": {
        "id": "220c412b"
      },
      "source": [
        "berdasarkan gambar diatas bahwa distribusi ratingnya right skewed dengan paling banyak rating 1."
      ]
    },
    {
      "cell_type": "markdown",
      "id": "9dc84b0b",
      "metadata": {
        "id": "9dc84b0b"
      },
      "source": [
        "visualisasi Distribusi tahun publikasi"
      ]
    },
    {
      "cell_type": "code",
      "execution_count": 13,
      "id": "ab9ad867",
      "metadata": {
        "colab": {
          "base_uri": "https://localhost:8080/",
          "height": 564
        },
        "id": "ab9ad867",
        "outputId": "7537df88-c705-41e6-9d91-1c1387b1655d"
      },
      "outputs": [
        {
          "data": {
            "image/png": "[encoded data removed]",
            "text/plain": [
              "<Figure size 1000x600 with 1 Axes>"
            ]
          },
          "metadata": {},
          "output_type": "display_data"
        }
      ],
      "source": [
        "# Mengubah kolom 'Year-Of-Publication' menjadi integer\n",
        "df['Year-Of-Publication'] = df['Year-Of-Publication'].astype(int)\n",
        "\n",
        "# Filter data untuk tahun antara 1750 dan 2010\n",
        "df_filtered = df[(df['Year-Of-Publication'] >= 1960) & (df['Year-Of-Publication'] <= 2008)]\n",
        "\n",
        "# Distribusi Tahun Publikasi\n",
        "plt.figure(figsize=(10, 6))\n",
        "sns.histplot(df_filtered['Year-Of-Publication'], bins=10, kde=True)\n",
        "plt.title('Distribusi Tahun Publikasi (1750 - 2010)')\n",
        "plt.xlabel('Tahun')\n",
        "plt.ylabel('Jumlah')\n",
        "plt.show()"
      ]
    },
    {
      "cell_type": "markdown",
      "id": "aff9db08",
      "metadata": {
        "id": "aff9db08"
      },
      "source": [
        "berdasarkan gambar diatas bahwa distribusinya left skewed dengan kebanyakan tahun publikasi pada tahun 1990 sampai tahun 2000."
      ]
    },
    {
      "cell_type": "markdown",
      "id": "374dddeb",
      "metadata": {
        "id": "374dddeb"
      },
      "source": [
        "visualisasi outliers age dan rating"
      ]
    },
    {
      "cell_type": "code",
      "execution_count": 14,
      "id": "044873c2",
      "metadata": {
        "colab": {
          "base_uri": "https://localhost:8080/",
          "height": 607
        },
        "id": "044873c2",
        "outputId": "0603f8c2-7f16-440e-8b9d-aa036bb3d8f0"
      },
      "outputs": [
        {
          "data": {
            "image/png": "[encoded data removed]",
            "text/plain": [
              "<Figure size 1200x600 with 2 Axes>"
            ]
          },
          "metadata": {},
          "output_type": "display_data"
        }
      ],
      "source": [
        "# Membuat visualisasi boxplot untuk Age dan Rating\n",
        "plt.figure(figsize=(12, 6))\n",
        "\n",
        "# Boxplot untuk Age\n",
        "plt.subplot(1, 2, 1)\n",
        "sns.boxplot(y='Age', data=df)\n",
        "plt.title('Boxplot Age')\n",
        "\n",
        "# Boxplot untuk Rating\n",
        "plt.subplot(1, 2, 2)\n",
        "sns.boxplot(y='Book-Rating', data=df)\n",
        "plt.title('Boxplot Rating')\n",
        "\n",
        "plt.tight_layout()\n",
        "plt.show()\n"
      ]
    },
    {
      "cell_type": "markdown",
      "id": "a8fdaa72",
      "metadata": {
        "id": "a8fdaa72"
      },
      "source": [
        "berdasarkan gambar diatas bahwa terdapat banyak nilai outliers pada age."
      ]
    },
    {
      "cell_type": "markdown",
      "id": "5b68445e",
      "metadata": {
        "id": "5b68445e"
      },
      "source": [
        "### Data Preprocessing"
      ]
    },
    {
      "cell_type": "markdown",
      "id": "e514a8b0",
      "metadata": {
        "id": "e514a8b0"
      },
      "source": [
        "handling missing value"
      ]
    },
    {
      "cell_type": "code",
      "execution_count": 15,
      "id": "bdbe869c",
      "metadata": {
        "id": "bdbe869c"
      },
      "outputs": [],
      "source": [
        "# Mengubah nilai null pada kolom 'Age' menggunakan teknik inputasi\n",
        "from sklearn.impute import KNNImputer\n",
        "imputer = KNNImputer(n_neighbors=5)\n",
        "df[['Age']] = imputer.fit_transform(df[['Age']])"
      ]
    },
    {
      "cell_type": "markdown",
      "id": "71316860",
      "metadata": {
        "id": "71316860"
      },
      "source": [
        "handling outliers"
      ]
    },
    {
      "cell_type": "code",
      "execution_count": 16,
      "id": "61b0f669",
      "metadata": {
        "id": "61b0f669"
      },
      "outputs": [],
      "source": [
        "# menghilangkan data outliers\n",
        "Q1 = df['Age'].quantile(0.25)\n",
        "Q3 = df['Age'].quantile(0.75)\n",
        "IQR = Q3 - Q1\n",
        "\n",
        "lower_bound = Q1 - 1.5 * IQR\n",
        "upper_bound = Q3 + 1.5 * IQR\n",
        "\n",
        "df_clean = df[~((df['Age'] < lower_bound) | (df['Age'] > upper_bound))]"
      ]
    },
    {
      "cell_type": "code",
      "execution_count": 17,
      "id": "ukekuNWyThl7",
      "metadata": {
        "colab": {
          "base_uri": "https://localhost:8080/"
        },
        "id": "ukekuNWyThl7",
        "outputId": "e8c1eaca-95fd-4610-db8f-5209a7a060b5"
      },
      "outputs": [
        {
          "name": "stdout",
          "output_type": "stream",
          "text": [
            "<class 'pandas.core.frame.DataFrame'>\n",
            "Index: 25032 entries, 0 to 26932\n",
            "Data columns (total 10 columns):\n",
            " #   Column               Non-Null Count  Dtype  \n",
            "---  ------               --------------  -----  \n",
            " 0   User-ID              25032 non-null  int64  \n",
            " 1   ISBN                 25032 non-null  object \n",
            " 2   Book-Rating          25032 non-null  int64  \n",
            " 3   Book-Title           25032 non-null  object \n",
            " 4   Book-Author          25032 non-null  object \n",
            " 5   Year-Of-Publication  25032 non-null  int64  \n",
            " 6   Publisher            25032 non-null  object \n",
            " 7   Image-URL-L          25032 non-null  object \n",
            " 8   Location             25032 non-null  object \n",
            " 9   Age                  25032 non-null  float64\n",
            "dtypes: float64(1), int64(3), object(6)\n",
            "memory usage: 2.1+ MB\n"
          ]
        }
      ],
      "source": [
        "df_clean.info()"
      ]
    },
    {
      "cell_type": "markdown",
      "id": "79a3e229",
      "metadata": {
        "id": "79a3e229"
      },
      "source": [
        "### Modeling"
      ]
    },
    {
      "cell_type": "markdown",
      "id": "1cff72e7",
      "metadata": {
        "id": "1cff72e7"
      },
      "source": [
        "#### model Collaborative Filtering"
      ]
    },
    {
      "cell_type": "code",
      "execution_count": 18,
      "id": "fb3de879",
      "metadata": {
        "colab": {
          "base_uri": "https://localhost:8080/"
        },
        "id": "fb3de879",
        "outputId": "b1d864ac-8f8e-4ab1-fe6f-3256866166a6"
      },
      "outputs": [
        {
          "name": "stdout",
          "output_type": "stream",
          "text": [
            "Requirement already satisfied: surprise in /usr/local/lib/python3.10/dist-packages (0.1)\n",
            "Requirement already satisfied: scikit-surprise in /usr/local/lib/python3.10/dist-packages (from surprise) (1.1.4)\n",
            "Requirement already satisfied: joblib>=1.2.0 in /usr/local/lib/python3.10/dist-packages (from scikit-surprise->surprise) (1.4.2)\n",
            "Requirement already satisfied: numpy>=1.19.5 in /usr/local/lib/python3.10/dist-packages (from scikit-surprise->surprise) (1.26.4)\n",
            "Requirement already satisfied: scipy>=1.6.0 in /usr/local/lib/python3.10/dist-packages (from scikit-surprise->surprise) (1.13.1)\n"
          ]
        }
      ],
      "source": [
        "%pip install surprise"
      ]
    },
    {
      "cell_type": "markdown",
      "id": "wcZqNzgi2Hv3",
      "metadata": {
        "id": "wcZqNzgi2Hv3"
      },
      "source": [
        "Metode ini memanfaatkan data dari pengguna lain untuk memberikan rekomendasi. Dalam hal ini, model SVD (Singular Value Decomposition) digunakan untuk memprediksi rating buku berdasarkan pola rating dari pengguna lain."
      ]
    },
    {
      "cell_type": "markdown",
      "id": "boxRFCrm485P",
      "metadata": {
        "id": "boxRFCrm485P"
      },
      "source": [
        "Inisialisasi data dan skala rating untuk Collaborative Filtering"
      ]
    },
    {
      "cell_type": "code",
      "execution_count": 19,
      "id": "6c74ffcf",
      "metadata": {
        "id": "6c74ffcf"
      },
      "outputs": [],
      "source": [
        "from surprise import SVD, Dataset, Reader\n",
        "from surprise.model_selection import train_test_split\n",
        "from surprise import accuracy\n",
        "\n",
        "reader = Reader(rating_scale=(1, 10))\n",
        "data = Dataset.load_from_df(df_clean[['User-ID', 'ISBN', 'Book-Rating']], reader)\n",
        "\n"
      ]
    },
    {
      "cell_type": "markdown",
      "id": "X1aAso6T_Nl3",
      "metadata": {
        "id": "X1aAso6T_Nl3"
      },
      "source": [
        "Membagi data menjadi train dan test set dengan perbandingan 80:20"
      ]
    },
    {
      "cell_type": "code",
      "execution_count": 20,
      "id": "CAnaPCFj_C2N",
      "metadata": {
        "id": "CAnaPCFj_C2N"
      },
      "outputs": [],
      "source": [
        "trainset, testset = train_test_split(data, test_size=0.2, random_state=42)"
      ]
    },
    {
      "cell_type": "markdown",
      "id": "OOf646Mc_XwI",
      "metadata": {
        "id": "OOf646Mc_XwI"
      },
      "source": [
        "membuat model SVD"
      ]
    },
    {
      "cell_type": "code",
      "execution_count": 21,
      "id": "NTilULBm_Wj4",
      "metadata": {
        "colab": {
          "base_uri": "https://localhost:8080/"
        },
        "id": "NTilULBm_Wj4",
        "outputId": "59ba063b-a51a-493f-ed50-8248bd38aca9"
      },
      "outputs": [
        {
          "data": {
            "text/plain": [
              "<surprise.prediction_algorithms.matrix_factorization.SVD at 0x7d0b3ce5f580>"
            ]
          },
          "execution_count": 21,
          "metadata": {},
          "output_type": "execute_result"
        }
      ],
      "source": [
        "svd_model = SVD()\n",
        "svd_model.fit(trainset)"
      ]
    },
    {
      "cell_type": "markdown",
      "id": "g4ZwJE3O_n3p",
      "metadata": {
        "id": "g4ZwJE3O_n3p"
      },
      "source": [
        " Melakukan prediksi pada test set"
      ]
    },
    {
      "cell_type": "code",
      "execution_count": 22,
      "id": "FYBxEJWu_Cr2",
      "metadata": {
        "id": "FYBxEJWu_Cr2"
      },
      "outputs": [],
      "source": [
        "predictions = svd_model.test(testset)"
      ]
    },
    {
      "cell_type": "markdown",
      "id": "LvNZhRGCWIrk",
      "metadata": {
        "id": "LvNZhRGCWIrk"
      },
      "source": [
        "Evaluasi Collaborative Filtering menggunakan RMSE dan MSE"
      ]
    },
    {
      "cell_type": "code",
      "execution_count": 23,
      "id": "yitwlhVPWCwE",
      "metadata": {
        "colab": {
          "base_uri": "https://localhost:8080/"
        },
        "id": "yitwlhVPWCwE",
        "outputId": "65879b56-5dbc-4bb3-ec91-fbcf5a3dc7e3"
      },
      "outputs": [
        {
          "name": "stdout",
          "output_type": "stream",
          "text": [
            "RMSE: 3.6319\n",
            "MAE:  3.1951\n"
          ]
        }
      ],
      "source": [
        "rmse = accuracy.rmse(predictions)\n",
        "mae = accuracy.mae(predictions)"
      ]
    },
    {
      "cell_type": "markdown",
      "id": "51f89612",
      "metadata": {},
      "source": [
        "Berdasarkan nilai metrik RMSE sebesar 3.6319 dan MAE sebesar 3.1951, dapat disimpulkan bahwa model memiliki akurasi prediksi yang moderat dengan rata-rata kesalahan sekitar 3 satuan dari nilai sebenarnya. "
      ]
    },
    {
      "cell_type": "markdown",
      "id": "EtV4hA7xWJ7O",
      "metadata": {
        "id": "EtV4hA7xWJ7O"
      },
      "source": [
        "membuat fungsi rekomendasi"
      ]
    },
    {
      "cell_type": "code",
      "execution_count": 24,
      "id": "fBCxYuzoWQkd",
      "metadata": {
        "id": "fBCxYuzoWQkd"
      },
      "outputs": [],
      "source": [
        "def recommend_books(user_id, n=10):\n",
        "    # List all unique book titles\n",
        "    all_books = df_clean['Book-Title'].unique()\n",
        "\n",
        "    # Remove books already rated by the user\n",
        "    rated_books = df_clean[df_clean['User-ID'] == user_id]['Book-Title'].values\n",
        "    books_to_predict = [book for book in all_books if book not in rated_books]\n",
        "\n",
        "    # Predict ratings for remaining books\n",
        "    predictions = []\n",
        "    for book in books_to_predict:\n",
        "        pred = svd_model.predict(user_id, book)\n",
        "        predictions.append((book, pred.est))\n",
        "\n",
        "    # Sort predictions by estimated rating\n",
        "    predictions.sort(key=lambda x: x[1], reverse=True)\n",
        "\n",
        "    # Get top N recommendations\n",
        "    top_n = predictions[:n]\n",
        "    print(f\"Top 10 rekomendasi buku untuk user {user_id}:\")\n",
        "    # Iterate through 'top_n' instead of 'recommended_books'\n",
        "    for i, (title, _) in enumerate(top_n, start=1):\n",
        "        print(f\"{i}. {title}\")\n",
        "    return top_n"
      ]
    },
    {
      "cell_type": "markdown",
      "id": "sp8ktrVv4zyu",
      "metadata": {
        "id": "sp8ktrVv4zyu"
      },
      "source": [
        "inference"
      ]
    },
    {
      "cell_type": "code",
      "execution_count": 25,
      "id": "FMehHDgaWCpM",
      "metadata": {
        "colab": {
          "base_uri": "https://localhost:8080/"
        },
        "id": "FMehHDgaWCpM",
        "outputId": "202c9176-8d3c-45c3-f39d-687be434ffda"
      },
      "outputs": [
        {
          "name": "stdout",
          "output_type": "stream",
          "text": [
            "Top 10 rekomendasi buku untuk user 271705:\n",
            "1. Firefly\n",
            "2. The Perfect Witness\n",
            "3. Water Babies (Puffin Classics)\n",
            "4. In the Cut: A Novel\n",
            "5. Walden Two (Cliffs Notes)\n",
            "6. Neverwhere\n",
            "7. Don't Sweat the Small Stuff and It's All Small Stuff : Simple Ways to Keep the Little Things from Taking Over Your Life (Don't Sweat the Small Stuff Series)\n",
            "8. NOTES TO MYSELF\n",
            "9. Lone Star Legacy: A Texas Cookbook\n",
            "10. Tales of the Dark Knight\n"
          ]
        }
      ],
      "source": [
        "user_id = 271705\n",
        "recommended_books = recommend_books(user_id)\n"
      ]
    },
    {
      "cell_type": "markdown",
      "id": "330d34d2",
      "metadata": {
        "id": "330d34d2"
      },
      "source": [
        "#### model content-based filtering"
      ]
    },
    {
      "cell_type": "markdown",
      "id": "A4outV8F4pCt",
      "metadata": {
        "id": "A4outV8F4pCt"
      },
      "source": [
        "Metode ini memanfaatkan data karakteristik/konten dari buku(judul, penulis, penerbit) untuk memberikan rekomendasi. Dalam hal ini, Menggunakan cosine similarity digunakan untuk untuk menghitung kemiripan antar buku."
      ]
    },
    {
      "cell_type": "markdown",
      "id": "olnaBymg2nv3",
      "metadata": {
        "id": "olnaBymg2nv3"
      },
      "source": [
        "Combine kolom yang relevan untuk content-based filtering"
      ]
    },
    {
      "cell_type": "code",
      "execution_count": 26,
      "id": "3a1cClbIzOIe",
      "metadata": {
        "id": "3a1cClbIzOIe"
      },
      "outputs": [],
      "source": [
        "from sklearn.feature_extraction.text import TfidfVectorizer\n",
        "from sklearn.metrics.pairwise import linear_kernel, cosine_similarity\n",
        "\n",
        "df_clean['combined_features'] = df_clean['Book-Title'] + ' ' + df_clean['Book-Author'] + ' ' + df_clean['Publisher']\n"
      ]
    },
    {
      "cell_type": "markdown",
      "id": "w_WoGodA2xlZ",
      "metadata": {
        "id": "w_WoGodA2xlZ"
      },
      "source": [
        "membuat matrix TF-IDF"
      ]
    },
    {
      "cell_type": "code",
      "execution_count": 27,
      "id": "Nl4wWxZQzODO",
      "metadata": {
        "colab": {
          "base_uri": "https://localhost:8080/"
        },
        "id": "Nl4wWxZQzODO",
        "outputId": "40ee5548-cc62-4ad5-f794-7e95422b3777"
      },
      "outputs": [
        {
          "data": {
            "text/plain": [
              "matrix([[0., 0., 0., ..., 0., 0., 0.],\n",
              "        [0., 0., 0., ..., 0., 0., 0.],\n",
              "        [0., 0., 0., ..., 0., 0., 0.],\n",
              "        ...,\n",
              "        [0., 0., 0., ..., 0., 0., 0.],\n",
              "        [0., 0., 0., ..., 0., 0., 0.],\n",
              "        [0., 0., 0., ..., 0., 0., 0.]])"
            ]
          },
          "execution_count": 27,
          "metadata": {},
          "output_type": "execute_result"
        }
      ],
      "source": [
        "tfidf = TfidfVectorizer(stop_words='english')\n",
        "tfidf_matrix = tfidf.fit_transform(df_clean['combined_features'])\n",
        "tfidf_matrix.todense()\n"
      ]
    },
    {
      "cell_type": "markdown",
      "id": "SKe4rqYq24l5",
      "metadata": {
        "id": "SKe4rqYq24l5"
      },
      "source": [
        "menghitung matriks cosine similarity"
      ]
    },
    {
      "cell_type": "code",
      "execution_count": 28,
      "id": "3cxW0VPdzN8P",
      "metadata": {
        "id": "3cxW0VPdzN8P"
      },
      "outputs": [],
      "source": [
        "# Compute cosine similarity matrix\n",
        "cosine_sim = cosine_similarity(tfidf_matrix)\n",
        "\n"
      ]
    },
    {
      "cell_type": "markdown",
      "id": "X9Qt3iEL4tq1",
      "metadata": {
        "id": "X9Qt3iEL4tq1"
      },
      "source": [
        "membuat fungsi rekomendasi"
      ]
    },
    {
      "cell_type": "code",
      "execution_count": 29,
      "id": "Dg-vIjBcC1H6",
      "metadata": {
        "id": "Dg-vIjBcC1H6"
      },
      "outputs": [],
      "source": [
        "def get_recommendations(title, cosine_sim=cosine_sim):\n",
        "    # Memeriksa apakah judul buku ada dalam DataFrame\n",
        "    if title not in df_clean['Book-Title'].values:\n",
        "        print(f\"Buku dengan judul '{title}' tidak ditemukan.\")\n",
        "        return\n",
        "\n",
        "    # Mendapatkan indeks dari buku yang sesuai dengan judul\n",
        "    idx = df_clean[df_clean['Book-Title'] == title].index[0]\n",
        "\n",
        "    # Mendapatkan skor kesamaan dari semua buku dengan buku yang diberikan\n",
        "    sim_scores = list(enumerate(cosine_sim[idx]))\n",
        "\n",
        "    # Mengurutkan buku berdasarkan skor kesamaan\n",
        "    sim_scores = sorted(sim_scores, key=lambda x: x[1], reverse=True)\n",
        "\n",
        "    # Mendapatkan indeks buku dari 10 buku yang paling mirip\n",
        "    book_indices = [i[0] for i in sim_scores[1:11]]\n",
        "\n",
        "    # Mengembalikan dan mencetak judul buku yang paling mirip\n",
        "    recommended_books = df_clean['Book-Title'].iloc[book_indices].tolist()\n",
        "    print(f\"Rekomendasi buku untuk judul buku '{title}':\")\n",
        "    for i, book in enumerate(recommended_books, 1):\n",
        "        print(f\"{i}. {book}\")\n"
      ]
    },
    {
      "cell_type": "markdown",
      "id": "nQK1CPRu4rtF",
      "metadata": {
        "id": "nQK1CPRu4rtF"
      },
      "source": [
        "inference"
      ]
    },
    {
      "cell_type": "code",
      "execution_count": 30,
      "id": "Nsq1m0fl3DV6",
      "metadata": {
        "colab": {
          "base_uri": "https://localhost:8080/"
        },
        "id": "Nsq1m0fl3DV6",
        "outputId": "8fd8346b-ea03-4598-e812-0cd50a813278"
      },
      "outputs": [
        {
          "name": "stdout",
          "output_type": "stream",
          "text": [
            "Rekomendasi buku untuk judul buku 'Moment of Truth':\n",
            "1. Death in the Andamans\n",
            "2. V\n",
            "3. Strong As Death\n",
            "4. Crazy for You\n",
            "5. Cat Magic\n",
            "6. The Dark Side of the Sun\n",
            "7. Name Dropping\n",
            "8. Digging Your Own Grave\n",
            "9. The Berlin Stories: The Last of Mr. Norris and  Goodbye to Berlin (New Directions Book)\n",
            "10. Reliquary\n"
          ]
        }
      ],
      "source": [
        "get_recommendations('Moment of Truth')"
      ]
    }
  ],
  "metadata": {
    "colab": {
      "provenance": []
    },
    "kernelspec": {
      "display_name": "Python 3",
      "name": "python3"
    },
    "language_info": {
      "codemirror_mode": {
        "name": "ipython",
        "version": 3
      },
      "file_extension": ".py",
      "mimetype": "text/x-python",
      "name": "python",
      "nbconvert_exporter": "python",
      "pygments_lexer": "ipython3",
      "version": "3.12.7"
    },
    "papermill": {
      "default_parameters": {},
      "duration": 17.862312,
      "end_time": "2022-10-28T17:16:08.440030",
      "environment_variables": {},
      "exception": null,
      "input_path": "__notebook__.ipynb",
      "output_path": "__notebook__.ipynb",
      "parameters": {},
      "start_time": "2022-10-28T17:15:50.577718",
      "version": "2.3.4"
    }
  },
  "nbformat": 4,
  "nbformat_minor": 5
}
