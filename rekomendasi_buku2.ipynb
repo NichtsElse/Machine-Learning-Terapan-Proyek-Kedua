{
  "cells": [
    {
      "cell_type": "markdown",
      "id": "f53067ac",
      "metadata": {
        "id": "f53067ac"
      },
      "source": [
        "import libraries"
      ]
    },
    {
      "cell_type": "code",
      "execution_count": 1,
      "id": "391f7557",
      "metadata": {
        "_cell_guid": "b1076dfc-b9ad-4769-8c92-a6c4dae69d19",
        "_uuid": "8f2839f25d086af736a60e9eeb907d3b93b6e0e5",
        "execution": {
          "iopub.execute_input": "2022-10-28T17:15:58.116350Z",
          "iopub.status.busy": "2022-10-28T17:15:58.115657Z",
          "iopub.status.idle": "2022-10-28T17:15:59.051025Z",
          "shell.execute_reply": "2022-10-28T17:15:59.049888Z"
        },
        "papermill": {
          "duration": 0.947556,
          "end_time": "2022-10-28T17:15:59.053669",
          "exception": false,
          "start_time": "2022-10-28T17:15:58.106113",
          "status": "completed"
        },
        "tags": [],
        "id": "391f7557"
      },
      "outputs": [],
      "source": [
        "import numpy as np\n",
        "import pandas as pd\n",
        "import seaborn as sns\n",
        "import matplotlib.pyplot as plt\n",
        "import os\n",
        "\n",
        "import warnings\n",
        "warnings.filterwarnings('ignore')\n",
        "import kagglehub\n",
        "\n"
      ]
    },
    {
      "cell_type": "markdown",
      "id": "58ba3543",
      "metadata": {
        "id": "58ba3543"
      },
      "source": [
        "### Data Preparation"
      ]
    },
    {
      "cell_type": "markdown",
      "id": "daf87c7e",
      "metadata": {
        "id": "daf87c7e"
      },
      "source": [
        "download dataset di kaggle"
      ]
    },
    {
      "cell_type": "code",
      "execution_count": 2,
      "id": "43c1a4be",
      "metadata": {
        "colab": {
          "base_uri": "https://localhost:8080/"
        },
        "id": "43c1a4be",
        "outputId": "6fa47c78-d5c7-4033-8397-0c93af3debe3"
      },
      "outputs": [
        {
          "output_type": "stream",
          "name": "stdout",
          "text": [
            "Downloading from https://www.kaggle.com/api/v1/datasets/download/arashnic/book-recommendation-dataset?dataset_version_number=3...\n"
          ]
        },
        {
          "output_type": "stream",
          "name": "stderr",
          "text": [
            "100%|██████████| 24.3M/24.3M [00:00<00:00, 35.9MB/s]"
          ]
        },
        {
          "output_type": "stream",
          "name": "stdout",
          "text": [
            "Extracting files...\n"
          ]
        },
        {
          "output_type": "stream",
          "name": "stderr",
          "text": [
            "\n"
          ]
        },
        {
          "output_type": "stream",
          "name": "stdout",
          "text": [
            "Path to dataset files: /root/.cache/kagglehub/datasets/arashnic/book-recommendation-dataset/versions/3\n"
          ]
        }
      ],
      "source": [
        "# download data dari kaggle\n",
        "path = kagglehub.dataset_download(\"arashnic/book-recommendation-dataset\")\n",
        "\n",
        "print(\"Path to dataset files:\", path)"
      ]
    },
    {
      "cell_type": "markdown",
      "id": "3c3ee445",
      "metadata": {
        "id": "3c3ee445"
      },
      "source": [
        "load data csv"
      ]
    },
    {
      "cell_type": "code",
      "execution_count": 3,
      "id": "cea1e6e2",
      "metadata": {
        "execution": {
          "iopub.execute_input": "2022-10-28T17:15:59.072922Z",
          "iopub.status.busy": "2022-10-28T17:15:59.072152Z",
          "iopub.status.idle": "2022-10-28T17:15:59.095853Z",
          "shell.execute_reply": "2022-10-28T17:15:59.094906Z"
        },
        "papermill": {
          "duration": 0.036975,
          "end_time": "2022-10-28T17:15:59.097857",
          "exception": false,
          "start_time": "2022-10-28T17:15:59.060882",
          "status": "completed"
        },
        "tags": [],
        "id": "cea1e6e2"
      },
      "outputs": [],
      "source": [
        "book_df = pd.read_csv('/root/.cache/kagglehub/datasets/arashnic/book-recommendation-dataset/versions/3/Books.csv')\n",
        "ratings_df = pd.read_csv('/root/.cache/kagglehub/datasets/arashnic/book-recommendation-dataset/versions/3/Ratings.csv').sample(30000)\n",
        "user_df = pd.read_csv('/root/.cache/kagglehub/datasets/arashnic/book-recommendation-dataset/versions/3/Users.csv')\n"
      ]
    },
    {
      "cell_type": "markdown",
      "id": "39190be6",
      "metadata": {
        "id": "39190be6"
      },
      "source": [
        "Merge dataset"
      ]
    },
    {
      "cell_type": "code",
      "execution_count": 4,
      "id": "08eefebe",
      "metadata": {
        "colab": {
          "base_uri": "https://localhost:8080/",
          "height": 469
        },
        "id": "08eefebe",
        "outputId": "2d9c2715-5850-456d-daa7-cebb8eab8ed9"
      },
      "outputs": [
        {
          "output_type": "execute_result",
          "data": {
            "text/plain": [
              "   User-ID        ISBN  Book-Rating  \\\n",
              "0   204864  0385194226            0   \n",
              "1   108700  0446350109            0   \n",
              "2    81298  0842329277            7   \n",
              "3    51883  0590453653            0   \n",
              "4   128325  0061032093            0   \n",
              "\n",
              "                                          Book-Title  \\\n",
              "0                                Night of the Ripper   \n",
              "1                              Windmills of the Gods   \n",
              "2  Assassins: Assignment: Jerusalem, Target: Anti...   \n",
              "3           Welcome to Dead House (Goosebumps, No 1)   \n",
              "4                      Breathing Room (Avon Romance)   \n",
              "\n",
              "                Book-Author Year-Of-Publication                 Publisher  \\\n",
              "0              Robert Block                1984     Bantam Dell Pub Group   \n",
              "1            Sidney Sheldon                1987              Warner Books   \n",
              "2                Tim Lahaye                2000  Tyndale House Publishers   \n",
              "3               R. L. Stine                1995                Scholastic   \n",
              "4  Susan Elizabeth Phillips                2003                Avon Books   \n",
              "\n",
              "                                         Image-URL-S  \\\n",
              "0  http://images.amazon.com/images/P/0385194226.0...   \n",
              "1  http://images.amazon.com/images/P/0446350109.0...   \n",
              "2  http://images.amazon.com/images/P/0842329277.0...   \n",
              "3  http://images.amazon.com/images/P/0590453653.0...   \n",
              "4  http://images.amazon.com/images/P/0061032093.0...   \n",
              "\n",
              "                                         Image-URL-M  \\\n",
              "0  http://images.amazon.com/images/P/0385194226.0...   \n",
              "1  http://images.amazon.com/images/P/0446350109.0...   \n",
              "2  http://images.amazon.com/images/P/0842329277.0...   \n",
              "3  http://images.amazon.com/images/P/0590453653.0...   \n",
              "4  http://images.amazon.com/images/P/0061032093.0...   \n",
              "\n",
              "                                         Image-URL-L  \\\n",
              "0  http://images.amazon.com/images/P/0385194226.0...   \n",
              "1  http://images.amazon.com/images/P/0446350109.0...   \n",
              "2  http://images.amazon.com/images/P/0842329277.0...   \n",
              "3  http://images.amazon.com/images/P/0590453653.0...   \n",
              "4  http://images.amazon.com/images/P/0061032093.0...   \n",
              "\n",
              "                       Location   Age  \n",
              "0  simi valley, california, usa  47.0  \n",
              "1         orlando, florida, usa  49.0  \n",
              "2        savannah, georgia, usa  20.0  \n",
              "3         jasper, missouri, usa  31.0  \n",
              "4             toledo, ohio, usa  43.0  "
            ],
            "text/html": [
              "\n",
              "  <div id=\"df-b3c5e213-36be-4cd7-8550-6230b2b0adb1\" class=\"colab-df-container\">\n",
              "    <div>\n",
              "<style scoped>\n",
              "    .dataframe tbody tr th:only-of-type {\n",
              "        vertical-align: middle;\n",
              "    }\n",
              "\n",
              "    .dataframe tbody tr th {\n",
              "        vertical-align: top;\n",
              "    }\n",
              "\n",
              "    .dataframe thead th {\n",
              "        text-align: right;\n",
              "    }\n",
              "</style>\n",
              "<table border=\"1\" class=\"dataframe\">\n",
              "  <thead>\n",
              "    <tr style=\"text-align: right;\">\n",
              "      <th></th>\n",
              "      <th>User-ID</th>\n",
              "      <th>ISBN</th>\n",
              "      <th>Book-Rating</th>\n",
              "      <th>Book-Title</th>\n",
              "      <th>Book-Author</th>\n",
              "      <th>Year-Of-Publication</th>\n",
              "      <th>Publisher</th>\n",
              "      <th>Image-URL-S</th>\n",
              "      <th>Image-URL-M</th>\n",
              "      <th>Image-URL-L</th>\n",
              "      <th>Location</th>\n",
              "      <th>Age</th>\n",
              "    </tr>\n",
              "  </thead>\n",
              "  <tbody>\n",
              "    <tr>\n",
              "      <th>0</th>\n",
              "      <td>204864</td>\n",
              "      <td>0385194226</td>\n",
              "      <td>0</td>\n",
              "      <td>Night of the Ripper</td>\n",
              "      <td>Robert Block</td>\n",
              "      <td>1984</td>\n",
              "      <td>Bantam Dell Pub Group</td>\n",
              "      <td>http://images.amazon.com/images/P/0385194226.0...</td>\n",
              "      <td>http://images.amazon.com/images/P/0385194226.0...</td>\n",
              "      <td>http://images.amazon.com/images/P/0385194226.0...</td>\n",
              "      <td>simi valley, california, usa</td>\n",
              "      <td>47.0</td>\n",
              "    </tr>\n",
              "    <tr>\n",
              "      <th>1</th>\n",
              "      <td>108700</td>\n",
              "      <td>0446350109</td>\n",
              "      <td>0</td>\n",
              "      <td>Windmills of the Gods</td>\n",
              "      <td>Sidney Sheldon</td>\n",
              "      <td>1987</td>\n",
              "      <td>Warner Books</td>\n",
              "      <td>http://images.amazon.com/images/P/0446350109.0...</td>\n",
              "      <td>http://images.amazon.com/images/P/0446350109.0...</td>\n",
              "      <td>http://images.amazon.com/images/P/0446350109.0...</td>\n",
              "      <td>orlando, florida, usa</td>\n",
              "      <td>49.0</td>\n",
              "    </tr>\n",
              "    <tr>\n",
              "      <th>2</th>\n",
              "      <td>81298</td>\n",
              "      <td>0842329277</td>\n",
              "      <td>7</td>\n",
              "      <td>Assassins: Assignment: Jerusalem, Target: Anti...</td>\n",
              "      <td>Tim Lahaye</td>\n",
              "      <td>2000</td>\n",
              "      <td>Tyndale House Publishers</td>\n",
              "      <td>http://images.amazon.com/images/P/0842329277.0...</td>\n",
              "      <td>http://images.amazon.com/images/P/0842329277.0...</td>\n",
              "      <td>http://images.amazon.com/images/P/0842329277.0...</td>\n",
              "      <td>savannah, georgia, usa</td>\n",
              "      <td>20.0</td>\n",
              "    </tr>\n",
              "    <tr>\n",
              "      <th>3</th>\n",
              "      <td>51883</td>\n",
              "      <td>0590453653</td>\n",
              "      <td>0</td>\n",
              "      <td>Welcome to Dead House (Goosebumps, No 1)</td>\n",
              "      <td>R. L. Stine</td>\n",
              "      <td>1995</td>\n",
              "      <td>Scholastic</td>\n",
              "      <td>http://images.amazon.com/images/P/0590453653.0...</td>\n",
              "      <td>http://images.amazon.com/images/P/0590453653.0...</td>\n",
              "      <td>http://images.amazon.com/images/P/0590453653.0...</td>\n",
              "      <td>jasper, missouri, usa</td>\n",
              "      <td>31.0</td>\n",
              "    </tr>\n",
              "    <tr>\n",
              "      <th>4</th>\n",
              "      <td>128325</td>\n",
              "      <td>0061032093</td>\n",
              "      <td>0</td>\n",
              "      <td>Breathing Room (Avon Romance)</td>\n",
              "      <td>Susan Elizabeth Phillips</td>\n",
              "      <td>2003</td>\n",
              "      <td>Avon Books</td>\n",
              "      <td>http://images.amazon.com/images/P/0061032093.0...</td>\n",
              "      <td>http://images.amazon.com/images/P/0061032093.0...</td>\n",
              "      <td>http://images.amazon.com/images/P/0061032093.0...</td>\n",
              "      <td>toledo, ohio, usa</td>\n",
              "      <td>43.0</td>\n",
              "    </tr>\n",
              "  </tbody>\n",
              "</table>\n",
              "</div>\n",
              "    <div class=\"colab-df-buttons\">\n",
              "\n",
              "  <div class=\"colab-df-container\">\n",
              "    <button class=\"colab-df-convert\" onclick=\"convertToInteractive('df-b3c5e213-36be-4cd7-8550-6230b2b0adb1')\"\n",
              "            title=\"Convert this dataframe to an interactive table.\"\n",
              "            style=\"display:none;\">\n",
              "\n",
              "  <svg xmlns=\"http://www.w3.org/2000/svg\" height=\"24px\" viewBox=\"0 -960 960 960\">\n",
              "    <path d=\"M120-120v-720h720v720H120Zm60-500h600v-160H180v160Zm220 220h160v-160H400v160Zm0 220h160v-160H400v160ZM180-400h160v-160H180v160Zm440 0h160v-160H620v160ZM180-180h160v-160H180v160Zm440 0h160v-160H620v160Z\"/>\n",
              "  </svg>\n",
              "    </button>\n",
              "\n",
              "  <style>\n",
              "    .colab-df-container {\n",
              "      display:flex;\n",
              "      gap: 12px;\n",
              "    }\n",
              "\n",
              "    .colab-df-convert {\n",
              "      background-color: #E8F0FE;\n",
              "      border: none;\n",
              "      border-radius: 50%;\n",
              "      cursor: pointer;\n",
              "      display: none;\n",
              "      fill: #1967D2;\n",
              "      height: 32px;\n",
              "      padding: 0 0 0 0;\n",
              "      width: 32px;\n",
              "    }\n",
              "\n",
              "    .colab-df-convert:hover {\n",
              "      background-color: #E2EBFA;\n",
              "      box-shadow: 0px 1px 2px rgba(60, 64, 67, 0.3), 0px 1px 3px 1px rgba(60, 64, 67, 0.15);\n",
              "      fill: #174EA6;\n",
              "    }\n",
              "\n",
              "    .colab-df-buttons div {\n",
              "      margin-bottom: 4px;\n",
              "    }\n",
              "\n",
              "    [theme=dark] .colab-df-convert {\n",
              "      background-color: #3B4455;\n",
              "      fill: #D2E3FC;\n",
              "    }\n",
              "\n",
              "    [theme=dark] .colab-df-convert:hover {\n",
              "      background-color: #434B5C;\n",
              "      box-shadow: 0px 1px 3px 1px rgba(0, 0, 0, 0.15);\n",
              "      filter: drop-shadow(0px 1px 2px rgba(0, 0, 0, 0.3));\n",
              "      fill: #FFFFFF;\n",
              "    }\n",
              "  </style>\n",
              "\n",
              "    <script>\n",
              "      const buttonEl =\n",
              "        document.querySelector('#df-b3c5e213-36be-4cd7-8550-6230b2b0adb1 button.colab-df-convert');\n",
              "      buttonEl.style.display =\n",
              "        google.colab.kernel.accessAllowed ? 'block' : 'none';\n",
              "\n",
              "      async function convertToInteractive(key) {\n",
              "        const element = document.querySelector('#df-b3c5e213-36be-4cd7-8550-6230b2b0adb1');\n",
              "        const dataTable =\n",
              "          await google.colab.kernel.invokeFunction('convertToInteractive',\n",
              "                                                    [key], {});\n",
              "        if (!dataTable) return;\n",
              "\n",
              "        const docLinkHtml = 'Like what you see? Visit the ' +\n",
              "          '<a target=\"_blank\" href=https://colab.research.google.com/notebooks/data_table.ipynb>data table notebook</a>'\n",
              "          + ' to learn more about interactive tables.';\n",
              "        element.innerHTML = '';\n",
              "        dataTable['output_type'] = 'display_data';\n",
              "        await google.colab.output.renderOutput(dataTable, element);\n",
              "        const docLink = document.createElement('div');\n",
              "        docLink.innerHTML = docLinkHtml;\n",
              "        element.appendChild(docLink);\n",
              "      }\n",
              "    </script>\n",
              "  </div>\n",
              "\n",
              "\n",
              "<div id=\"df-0e09118c-d7d1-4718-b38c-cff58210928f\">\n",
              "  <button class=\"colab-df-quickchart\" onclick=\"quickchart('df-0e09118c-d7d1-4718-b38c-cff58210928f')\"\n",
              "            title=\"Suggest charts\"\n",
              "            style=\"display:none;\">\n",
              "\n",
              "<svg xmlns=\"http://www.w3.org/2000/svg\" height=\"24px\"viewBox=\"0 0 24 24\"\n",
              "     width=\"24px\">\n",
              "    <g>\n",
              "        <path d=\"M19 3H5c-1.1 0-2 .9-2 2v14c0 1.1.9 2 2 2h14c1.1 0 2-.9 2-2V5c0-1.1-.9-2-2-2zM9 17H7v-7h2v7zm4 0h-2V7h2v10zm4 0h-2v-4h2v4z\"/>\n",
              "    </g>\n",
              "</svg>\n",
              "  </button>\n",
              "\n",
              "<style>\n",
              "  .colab-df-quickchart {\n",
              "      --bg-color: #E8F0FE;\n",
              "      --fill-color: #1967D2;\n",
              "      --hover-bg-color: #E2EBFA;\n",
              "      --hover-fill-color: #174EA6;\n",
              "      --disabled-fill-color: #AAA;\n",
              "      --disabled-bg-color: #DDD;\n",
              "  }\n",
              "\n",
              "  [theme=dark] .colab-df-quickchart {\n",
              "      --bg-color: #3B4455;\n",
              "      --fill-color: #D2E3FC;\n",
              "      --hover-bg-color: #434B5C;\n",
              "      --hover-fill-color: #FFFFFF;\n",
              "      --disabled-bg-color: #3B4455;\n",
              "      --disabled-fill-color: #666;\n",
              "  }\n",
              "\n",
              "  .colab-df-quickchart {\n",
              "    background-color: var(--bg-color);\n",
              "    border: none;\n",
              "    border-radius: 50%;\n",
              "    cursor: pointer;\n",
              "    display: none;\n",
              "    fill: var(--fill-color);\n",
              "    height: 32px;\n",
              "    padding: 0;\n",
              "    width: 32px;\n",
              "  }\n",
              "\n",
              "  .colab-df-quickchart:hover {\n",
              "    background-color: var(--hover-bg-color);\n",
              "    box-shadow: 0 1px 2px rgba(60, 64, 67, 0.3), 0 1px 3px 1px rgba(60, 64, 67, 0.15);\n",
              "    fill: var(--button-hover-fill-color);\n",
              "  }\n",
              "\n",
              "  .colab-df-quickchart-complete:disabled,\n",
              "  .colab-df-quickchart-complete:disabled:hover {\n",
              "    background-color: var(--disabled-bg-color);\n",
              "    fill: var(--disabled-fill-color);\n",
              "    box-shadow: none;\n",
              "  }\n",
              "\n",
              "  .colab-df-spinner {\n",
              "    border: 2px solid var(--fill-color);\n",
              "    border-color: transparent;\n",
              "    border-bottom-color: var(--fill-color);\n",
              "    animation:\n",
              "      spin 1s steps(1) infinite;\n",
              "  }\n",
              "\n",
              "  @keyframes spin {\n",
              "    0% {\n",
              "      border-color: transparent;\n",
              "      border-bottom-color: var(--fill-color);\n",
              "      border-left-color: var(--fill-color);\n",
              "    }\n",
              "    20% {\n",
              "      border-color: transparent;\n",
              "      border-left-color: var(--fill-color);\n",
              "      border-top-color: var(--fill-color);\n",
              "    }\n",
              "    30% {\n",
              "      border-color: transparent;\n",
              "      border-left-color: var(--fill-color);\n",
              "      border-top-color: var(--fill-color);\n",
              "      border-right-color: var(--fill-color);\n",
              "    }\n",
              "    40% {\n",
              "      border-color: transparent;\n",
              "      border-right-color: var(--fill-color);\n",
              "      border-top-color: var(--fill-color);\n",
              "    }\n",
              "    60% {\n",
              "      border-color: transparent;\n",
              "      border-right-color: var(--fill-color);\n",
              "    }\n",
              "    80% {\n",
              "      border-color: transparent;\n",
              "      border-right-color: var(--fill-color);\n",
              "      border-bottom-color: var(--fill-color);\n",
              "    }\n",
              "    90% {\n",
              "      border-color: transparent;\n",
              "      border-bottom-color: var(--fill-color);\n",
              "    }\n",
              "  }\n",
              "</style>\n",
              "\n",
              "  <script>\n",
              "    async function quickchart(key) {\n",
              "      const quickchartButtonEl =\n",
              "        document.querySelector('#' + key + ' button');\n",
              "      quickchartButtonEl.disabled = true;  // To prevent multiple clicks.\n",
              "      quickchartButtonEl.classList.add('colab-df-spinner');\n",
              "      try {\n",
              "        const charts = await google.colab.kernel.invokeFunction(\n",
              "            'suggestCharts', [key], {});\n",
              "      } catch (error) {\n",
              "        console.error('Error during call to suggestCharts:', error);\n",
              "      }\n",
              "      quickchartButtonEl.classList.remove('colab-df-spinner');\n",
              "      quickchartButtonEl.classList.add('colab-df-quickchart-complete');\n",
              "    }\n",
              "    (() => {\n",
              "      let quickchartButtonEl =\n",
              "        document.querySelector('#df-0e09118c-d7d1-4718-b38c-cff58210928f button');\n",
              "      quickchartButtonEl.style.display =\n",
              "        google.colab.kernel.accessAllowed ? 'block' : 'none';\n",
              "    })();\n",
              "  </script>\n",
              "</div>\n",
              "\n",
              "    </div>\n",
              "  </div>\n"
            ],
            "application/vnd.google.colaboratory.intrinsic+json": {
              "type": "dataframe",
              "variable_name": "merged_df",
              "summary": "{\n  \"name\": \"merged_df\",\n  \"rows\": 26868,\n  \"fields\": [\n    {\n      \"column\": \"User-ID\",\n      \"properties\": {\n        \"dtype\": \"number\",\n        \"std\": 80144,\n        \"min\": 2,\n        \"max\": 278843,\n        \"num_unique_values\": 10336,\n        \"samples\": [\n          38950,\n          50215,\n          182506\n        ],\n        \"semantic_type\": \"\",\n        \"description\": \"\"\n      }\n    },\n    {\n      \"column\": \"ISBN\",\n      \"properties\": {\n        \"dtype\": \"string\",\n        \"num_unique_values\": 20460,\n        \"samples\": [\n          \"8445070789\",\n          \"0821772082\",\n          \"1587881705\"\n        ],\n        \"semantic_type\": \"\",\n        \"description\": \"\"\n      }\n    },\n    {\n      \"column\": \"Book-Rating\",\n      \"properties\": {\n        \"dtype\": \"number\",\n        \"std\": 3,\n        \"min\": 0,\n        \"max\": 10,\n        \"num_unique_values\": 11,\n        \"samples\": [\n          10,\n          0,\n          3\n        ],\n        \"semantic_type\": \"\",\n        \"description\": \"\"\n      }\n    },\n    {\n      \"column\": \"Book-Title\",\n      \"properties\": {\n        \"dtype\": \"string\",\n        \"num_unique_values\": 19362,\n        \"samples\": [\n          \"The Mermaids Singing\",\n          \"Astrology: The Classic Guide to Understanding Your Horoscope\",\n          \"Round Ireland With a Fridge\"\n        ],\n        \"semantic_type\": \"\",\n        \"description\": \"\"\n      }\n    },\n    {\n      \"column\": \"Book-Author\",\n      \"properties\": {\n        \"dtype\": \"category\",\n        \"num_unique_values\": 11039,\n        \"samples\": [\n          \"Sarah Ban Breathnach\",\n          \"Robert Nordan\",\n          \"Virginia Henley\"\n        ],\n        \"semantic_type\": \"\",\n        \"description\": \"\"\n      }\n    },\n    {\n      \"column\": \"Year-Of-Publication\",\n      \"properties\": {\n        \"dtype\": \"category\",\n        \"num_unique_values\": 119,\n        \"samples\": [\n          1970,\n          1957,\n          2003\n        ],\n        \"semantic_type\": \"\",\n        \"description\": \"\"\n      }\n    },\n    {\n      \"column\": \"Publisher\",\n      \"properties\": {\n        \"dtype\": \"category\",\n        \"num_unique_values\": 2721,\n        \"samples\": [\n          \"Landoll\",\n          \"Vacation-Work\",\n          \"Lippincott Williams &amp; Wilkins\"\n        ],\n        \"semantic_type\": \"\",\n        \"description\": \"\"\n      }\n    },\n    {\n      \"column\": \"Image-URL-S\",\n      \"properties\": {\n        \"dtype\": \"string\",\n        \"num_unique_values\": 20457,\n        \"samples\": [\n          \"http://images.amazon.com/images/P/0679433236.01.THUMBZZZ.jpg\",\n          \"http://images.amazon.com/images/P/0505519143.01.THUMBZZZ.jpg\",\n          \"http://images.amazon.com/images/P/0345337557.01.THUMBZZZ.jpg\"\n        ],\n        \"semantic_type\": \"\",\n        \"description\": \"\"\n      }\n    },\n    {\n      \"column\": \"Image-URL-M\",\n      \"properties\": {\n        \"dtype\": \"string\",\n        \"num_unique_values\": 20457,\n        \"samples\": [\n          \"http://images.amazon.com/images/P/0679433236.01.MZZZZZZZ.jpg\",\n          \"http://images.amazon.com/images/P/0505519143.01.MZZZZZZZ.jpg\",\n          \"http://images.amazon.com/images/P/0345337557.01.MZZZZZZZ.jpg\"\n        ],\n        \"semantic_type\": \"\",\n        \"description\": \"\"\n      }\n    },\n    {\n      \"column\": \"Image-URL-L\",\n      \"properties\": {\n        \"dtype\": \"string\",\n        \"num_unique_values\": 20457,\n        \"samples\": [\n          \"http://images.amazon.com/images/P/0679433236.01.LZZZZZZZ.jpg\",\n          \"http://images.amazon.com/images/P/0505519143.01.LZZZZZZZ.jpg\",\n          \"http://images.amazon.com/images/P/0345337557.01.LZZZZZZZ.jpg\"\n        ],\n        \"semantic_type\": \"\",\n        \"description\": \"\"\n      }\n    },\n    {\n      \"column\": \"Location\",\n      \"properties\": {\n        \"dtype\": \"category\",\n        \"num_unique_values\": 4904,\n        \"samples\": [\n          \"lismore heights, new south wales, australia\",\n          \"chelsea, alabama, usa\",\n          \"o`fallon, missouri, usa\"\n        ],\n        \"semantic_type\": \"\",\n        \"description\": \"\"\n      }\n    },\n    {\n      \"column\": \"Age\",\n      \"properties\": {\n        \"dtype\": \"number\",\n        \"std\": 14.331669284294016,\n        \"min\": 0.0,\n        \"max\": 244.0,\n        \"num_unique_values\": 108,\n        \"samples\": [\n          103.0,\n          38.0,\n          43.0\n        ],\n        \"semantic_type\": \"\",\n        \"description\": \"\"\n      }\n    }\n  ]\n}"
            }
          },
          "metadata": {},
          "execution_count": 4
        }
      ],
      "source": [
        "# Menggabungkan semua dataset berdasarkan User-ID dan ISBN\n",
        "merged_df = pd.merge(ratings_df, book_df, on='ISBN', how='inner')\n",
        "merged_df = pd.merge(merged_df, user_df, on='User-ID', how='inner')\n",
        "\n",
        "# Menampilkan 5 data teratas dari dataframe yang telah digabungkan\n",
        "merged_df.head()"
      ]
    },
    {
      "cell_type": "code",
      "execution_count": 5,
      "id": "5e2c985c",
      "metadata": {
        "colab": {
          "base_uri": "https://localhost:8080/"
        },
        "id": "5e2c985c",
        "outputId": "23c07c84-5a81-4bde-f021-0d1ce1ebdecf"
      },
      "outputs": [
        {
          "output_type": "stream",
          "name": "stdout",
          "text": [
            "<class 'pandas.core.frame.DataFrame'>\n",
            "RangeIndex: 26868 entries, 0 to 26867\n",
            "Data columns (total 12 columns):\n",
            " #   Column               Non-Null Count  Dtype  \n",
            "---  ------               --------------  -----  \n",
            " 0   User-ID              26868 non-null  int64  \n",
            " 1   ISBN                 26868 non-null  object \n",
            " 2   Book-Rating          26868 non-null  int64  \n",
            " 3   Book-Title           26868 non-null  object \n",
            " 4   Book-Author          26868 non-null  object \n",
            " 5   Year-Of-Publication  26868 non-null  object \n",
            " 6   Publisher            26868 non-null  object \n",
            " 7   Image-URL-S          26868 non-null  object \n",
            " 8   Image-URL-M          26868 non-null  object \n",
            " 9   Image-URL-L          26868 non-null  object \n",
            " 10  Location             26868 non-null  object \n",
            " 11  Age                  19538 non-null  float64\n",
            "dtypes: float64(1), int64(2), object(9)\n",
            "memory usage: 2.5+ MB\n"
          ]
        }
      ],
      "source": [
        "merged_df.info()"
      ]
    },
    {
      "cell_type": "markdown",
      "id": "0f001ef2",
      "metadata": {
        "id": "0f001ef2"
      },
      "source": [
        "### Data Cleaning"
      ]
    },
    {
      "cell_type": "markdown",
      "id": "e46cb98d",
      "metadata": {
        "id": "e46cb98d"
      },
      "source": [
        "cek duplikat"
      ]
    },
    {
      "cell_type": "code",
      "execution_count": 6,
      "id": "647c723e",
      "metadata": {
        "colab": {
          "base_uri": "https://localhost:8080/"
        },
        "id": "647c723e",
        "outputId": "432f1566-5971-407e-c9bf-d3f062776217"
      },
      "outputs": [
        {
          "output_type": "execute_result",
          "data": {
            "text/plain": [
              "0"
            ]
          },
          "metadata": {},
          "execution_count": 6
        }
      ],
      "source": [
        "merged_df.duplicated().sum()"
      ]
    },
    {
      "cell_type": "markdown",
      "id": "39116557",
      "metadata": {
        "id": "39116557"
      },
      "source": [
        "cek missing value"
      ]
    },
    {
      "cell_type": "code",
      "execution_count": 7,
      "id": "ee2a19cc",
      "metadata": {
        "execution": {
          "iopub.execute_input": "2022-10-28T17:15:59.234366Z",
          "iopub.status.busy": "2022-10-28T17:15:59.233744Z",
          "iopub.status.idle": "2022-10-28T17:15:59.244664Z",
          "shell.execute_reply": "2022-10-28T17:15:59.243689Z"
        },
        "papermill": {
          "duration": 0.025062,
          "end_time": "2022-10-28T17:15:59.246641",
          "exception": false,
          "start_time": "2022-10-28T17:15:59.221579",
          "status": "completed"
        },
        "tags": [],
        "colab": {
          "base_uri": "https://localhost:8080/",
          "height": 460
        },
        "id": "ee2a19cc",
        "outputId": "66aaf02b-2ff7-4f83-e01f-2bca773a949f"
      },
      "outputs": [
        {
          "output_type": "execute_result",
          "data": {
            "text/plain": [
              "User-ID                   0\n",
              "ISBN                      0\n",
              "Book-Rating               0\n",
              "Book-Title                0\n",
              "Book-Author               0\n",
              "Year-Of-Publication       0\n",
              "Publisher                 0\n",
              "Image-URL-S               0\n",
              "Image-URL-M               0\n",
              "Image-URL-L               0\n",
              "Location                  0\n",
              "Age                    7330\n",
              "dtype: int64"
            ],
            "text/html": [
              "<div>\n",
              "<style scoped>\n",
              "    .dataframe tbody tr th:only-of-type {\n",
              "        vertical-align: middle;\n",
              "    }\n",
              "\n",
              "    .dataframe tbody tr th {\n",
              "        vertical-align: top;\n",
              "    }\n",
              "\n",
              "    .dataframe thead th {\n",
              "        text-align: right;\n",
              "    }\n",
              "</style>\n",
              "<table border=\"1\" class=\"dataframe\">\n",
              "  <thead>\n",
              "    <tr style=\"text-align: right;\">\n",
              "      <th></th>\n",
              "      <th>0</th>\n",
              "    </tr>\n",
              "  </thead>\n",
              "  <tbody>\n",
              "    <tr>\n",
              "      <th>User-ID</th>\n",
              "      <td>0</td>\n",
              "    </tr>\n",
              "    <tr>\n",
              "      <th>ISBN</th>\n",
              "      <td>0</td>\n",
              "    </tr>\n",
              "    <tr>\n",
              "      <th>Book-Rating</th>\n",
              "      <td>0</td>\n",
              "    </tr>\n",
              "    <tr>\n",
              "      <th>Book-Title</th>\n",
              "      <td>0</td>\n",
              "    </tr>\n",
              "    <tr>\n",
              "      <th>Book-Author</th>\n",
              "      <td>0</td>\n",
              "    </tr>\n",
              "    <tr>\n",
              "      <th>Year-Of-Publication</th>\n",
              "      <td>0</td>\n",
              "    </tr>\n",
              "    <tr>\n",
              "      <th>Publisher</th>\n",
              "      <td>0</td>\n",
              "    </tr>\n",
              "    <tr>\n",
              "      <th>Image-URL-S</th>\n",
              "      <td>0</td>\n",
              "    </tr>\n",
              "    <tr>\n",
              "      <th>Image-URL-M</th>\n",
              "      <td>0</td>\n",
              "    </tr>\n",
              "    <tr>\n",
              "      <th>Image-URL-L</th>\n",
              "      <td>0</td>\n",
              "    </tr>\n",
              "    <tr>\n",
              "      <th>Location</th>\n",
              "      <td>0</td>\n",
              "    </tr>\n",
              "    <tr>\n",
              "      <th>Age</th>\n",
              "      <td>7330</td>\n",
              "    </tr>\n",
              "  </tbody>\n",
              "</table>\n",
              "</div><br><label><b>dtype:</b> int64</label>"
            ]
          },
          "metadata": {},
          "execution_count": 7
        }
      ],
      "source": [
        "#cek null pada dataframe\n",
        "merged_df.isnull().sum()"
      ]
    },
    {
      "cell_type": "markdown",
      "id": "4d25e7eb",
      "metadata": {
        "id": "4d25e7eb"
      },
      "source": [
        "cek ukuran dataframe"
      ]
    },
    {
      "cell_type": "code",
      "execution_count": 8,
      "id": "fc47c0d4",
      "metadata": {
        "execution": {
          "iopub.execute_input": "2022-10-28T17:15:59.280135Z",
          "iopub.status.busy": "2022-10-28T17:15:59.279532Z",
          "iopub.status.idle": "2022-10-28T17:15:59.284747Z",
          "shell.execute_reply": "2022-10-28T17:15:59.283897Z"
        },
        "papermill": {
          "duration": 0.015282,
          "end_time": "2022-10-28T17:15:59.286545",
          "exception": false,
          "start_time": "2022-10-28T17:15:59.271263",
          "status": "completed"
        },
        "tags": [],
        "colab": {
          "base_uri": "https://localhost:8080/"
        },
        "id": "fc47c0d4",
        "outputId": "8a06b7ec-3325-46a4-b9d1-c37bcf25def2"
      },
      "outputs": [
        {
          "output_type": "execute_result",
          "data": {
            "text/plain": [
              "(26868, 12)"
            ]
          },
          "metadata": {},
          "execution_count": 8
        }
      ],
      "source": [
        "merged_df.shape"
      ]
    },
    {
      "cell_type": "markdown",
      "id": "fb84eda5",
      "metadata": {
        "id": "fb84eda5"
      },
      "source": [
        "cek jumlah data keseluruhan"
      ]
    },
    {
      "cell_type": "code",
      "execution_count": 9,
      "id": "be904a1d",
      "metadata": {
        "execution": {
          "iopub.execute_input": "2022-10-28T17:15:59.302034Z",
          "iopub.status.busy": "2022-10-28T17:15:59.301499Z",
          "iopub.status.idle": "2022-10-28T17:15:59.306874Z",
          "shell.execute_reply": "2022-10-28T17:15:59.306042Z"
        },
        "papermill": {
          "duration": 0.015039,
          "end_time": "2022-10-28T17:15:59.308719",
          "exception": false,
          "start_time": "2022-10-28T17:15:59.293680",
          "status": "completed"
        },
        "tags": [],
        "colab": {
          "base_uri": "https://localhost:8080/"
        },
        "id": "be904a1d",
        "outputId": "189caa79-35c5-4154-d51a-177db41e7ba8"
      },
      "outputs": [
        {
          "output_type": "execute_result",
          "data": {
            "text/plain": [
              "322416"
            ]
          },
          "metadata": {},
          "execution_count": 9
        }
      ],
      "source": [
        "merged_df.size"
      ]
    },
    {
      "cell_type": "markdown",
      "id": "209c7820",
      "metadata": {
        "id": "209c7820"
      },
      "source": [
        "berdasarkan hasil cek data  memiliki banyak missing value"
      ]
    },
    {
      "cell_type": "markdown",
      "id": "ad9dde1c",
      "metadata": {
        "id": "ad9dde1c"
      },
      "source": [
        "### EDA"
      ]
    },
    {
      "cell_type": "markdown",
      "id": "d8ffa5f8",
      "metadata": {
        "id": "d8ffa5f8"
      },
      "source": [
        "cek unique value"
      ]
    },
    {
      "cell_type": "code",
      "execution_count": 10,
      "id": "e8871a3c",
      "metadata": {
        "execution": {
          "iopub.execute_input": "2022-10-28T17:15:59.324274Z",
          "iopub.status.busy": "2022-10-28T17:15:59.323526Z",
          "iopub.status.idle": "2022-10-28T17:15:59.338168Z",
          "shell.execute_reply": "2022-10-28T17:15:59.337550Z"
        },
        "papermill": {
          "duration": 0.024132,
          "end_time": "2022-10-28T17:15:59.339866",
          "exception": false,
          "start_time": "2022-10-28T17:15:59.315734",
          "status": "completed"
        },
        "tags": [],
        "colab": {
          "base_uri": "https://localhost:8080/",
          "height": 460
        },
        "id": "e8871a3c",
        "outputId": "92134c47-3295-4bd0-d7a6-9076054511c0"
      },
      "outputs": [
        {
          "output_type": "execute_result",
          "data": {
            "text/plain": [
              "User-ID                10336\n",
              "ISBN                   20460\n",
              "Book-Rating               11\n",
              "Book-Title             19362\n",
              "Book-Author            11039\n",
              "Year-Of-Publication      119\n",
              "Publisher               2721\n",
              "Image-URL-S            20457\n",
              "Image-URL-M            20457\n",
              "Image-URL-L            20457\n",
              "Location                4904\n",
              "Age                      108\n",
              "dtype: int64"
            ],
            "text/html": [
              "<div>\n",
              "<style scoped>\n",
              "    .dataframe tbody tr th:only-of-type {\n",
              "        vertical-align: middle;\n",
              "    }\n",
              "\n",
              "    .dataframe tbody tr th {\n",
              "        vertical-align: top;\n",
              "    }\n",
              "\n",
              "    .dataframe thead th {\n",
              "        text-align: right;\n",
              "    }\n",
              "</style>\n",
              "<table border=\"1\" class=\"dataframe\">\n",
              "  <thead>\n",
              "    <tr style=\"text-align: right;\">\n",
              "      <th></th>\n",
              "      <th>0</th>\n",
              "    </tr>\n",
              "  </thead>\n",
              "  <tbody>\n",
              "    <tr>\n",
              "      <th>User-ID</th>\n",
              "      <td>10336</td>\n",
              "    </tr>\n",
              "    <tr>\n",
              "      <th>ISBN</th>\n",
              "      <td>20460</td>\n",
              "    </tr>\n",
              "    <tr>\n",
              "      <th>Book-Rating</th>\n",
              "      <td>11</td>\n",
              "    </tr>\n",
              "    <tr>\n",
              "      <th>Book-Title</th>\n",
              "      <td>19362</td>\n",
              "    </tr>\n",
              "    <tr>\n",
              "      <th>Book-Author</th>\n",
              "      <td>11039</td>\n",
              "    </tr>\n",
              "    <tr>\n",
              "      <th>Year-Of-Publication</th>\n",
              "      <td>119</td>\n",
              "    </tr>\n",
              "    <tr>\n",
              "      <th>Publisher</th>\n",
              "      <td>2721</td>\n",
              "    </tr>\n",
              "    <tr>\n",
              "      <th>Image-URL-S</th>\n",
              "      <td>20457</td>\n",
              "    </tr>\n",
              "    <tr>\n",
              "      <th>Image-URL-M</th>\n",
              "      <td>20457</td>\n",
              "    </tr>\n",
              "    <tr>\n",
              "      <th>Image-URL-L</th>\n",
              "      <td>20457</td>\n",
              "    </tr>\n",
              "    <tr>\n",
              "      <th>Location</th>\n",
              "      <td>4904</td>\n",
              "    </tr>\n",
              "    <tr>\n",
              "      <th>Age</th>\n",
              "      <td>108</td>\n",
              "    </tr>\n",
              "  </tbody>\n",
              "</table>\n",
              "</div><br><label><b>dtype:</b> int64</label>"
            ]
          },
          "metadata": {},
          "execution_count": 10
        }
      ],
      "source": [
        "# melihat nilai unik setiap variabel\n",
        "merged_df.nunique()"
      ]
    },
    {
      "cell_type": "markdown",
      "id": "08a02d6d",
      "metadata": {
        "id": "08a02d6d"
      },
      "source": [
        "drop id karna tidak memiliki korelasi apapun"
      ]
    },
    {
      "cell_type": "code",
      "execution_count": 11,
      "id": "afbfa009",
      "metadata": {
        "id": "afbfa009"
      },
      "outputs": [],
      "source": [
        "# menghilangkan data image url S dan M dari merged_df\n",
        "df=merged_df.drop(['Image-URL-M','Image-URL-S'],axis=1)"
      ]
    },
    {
      "cell_type": "markdown",
      "id": "cd295ab1",
      "metadata": {
        "id": "cd295ab1"
      },
      "source": [
        "### Univariate Analysis\n"
      ]
    },
    {
      "cell_type": "markdown",
      "id": "07d9b3ea",
      "metadata": {
        "id": "07d9b3ea"
      },
      "source": [
        "visualisasi Distribusi Rating"
      ]
    },
    {
      "cell_type": "code",
      "execution_count": 12,
      "id": "35d34708",
      "metadata": {
        "colab": {
          "base_uri": "https://localhost:8080/",
          "height": 564
        },
        "id": "35d34708",
        "outputId": "df879c73-722a-4add-ca21-c3b1533d62cc"
      },
      "outputs": [
        {
          "output_type": "display_data",
          "data": {
            "text/plain": [
              "<Figure size 1000x600 with 1 Axes>"
            ],
            "image/png": "[encoded data removed]"
          },
          "metadata": {}
        }
      ],
      "source": [
        "# Distribusi Rating\n",
        "plt.figure(figsize=(10, 6))\n",
        "sns.histplot(df['Book-Rating'], bins=10, kde=True)\n",
        "plt.title('Distribusi Rating Buku')\n",
        "plt.xlabel('Rating')\n",
        "plt.ylabel('Jumlah')\n",
        "plt.show()"
      ]
    },
    {
      "cell_type": "markdown",
      "id": "220c412b",
      "metadata": {
        "id": "220c412b"
      },
      "source": [
        "berdasarkan gambar diatas bahwa distribusi ratingnya right skewed dengan paling banyak rating 1."
      ]
    },
    {
      "cell_type": "markdown",
      "id": "9dc84b0b",
      "metadata": {
        "id": "9dc84b0b"
      },
      "source": [
        "visualisasi Distribusi tahun publikasi"
      ]
    },
    {
      "cell_type": "code",
      "execution_count": 13,
      "id": "ab9ad867",
      "metadata": {
        "colab": {
          "base_uri": "https://localhost:8080/",
          "height": 564
        },
        "id": "ab9ad867",
        "outputId": "a077ffbc-a0b0-429f-cda1-7ff7e7136495"
      },
      "outputs": [
        {
          "output_type": "display_data",
          "data": {
            "text/plain": [
              "<Figure size 1000x600 with 1 Axes>"
            ],
            "image/png": "[encoded data removed]"
          },
          "metadata": {}
        }
      ],
      "source": [
        "# Mengubah kolom 'Year-Of-Publication' menjadi integer\n",
        "df['Year-Of-Publication'] = df['Year-Of-Publication'].astype(int)\n",
        "\n",
        "# Filter data untuk tahun antara 1750 dan 2010\n",
        "df_filtered = df[(df['Year-Of-Publication'] >= 1960) & (df['Year-Of-Publication'] <= 2008)]\n",
        "\n",
        "# Distribusi Tahun Publikasi\n",
        "plt.figure(figsize=(10, 6))\n",
        "sns.histplot(df_filtered['Year-Of-Publication'], bins=10, kde=True)\n",
        "plt.title('Distribusi Tahun Publikasi (1750 - 2010)')\n",
        "plt.xlabel('Tahun')\n",
        "plt.ylabel('Jumlah')\n",
        "plt.show()"
      ]
    },
    {
      "cell_type": "markdown",
      "id": "aff9db08",
      "metadata": {
        "id": "aff9db08"
      },
      "source": [
        "berdasarkan gambar diatas bahwa distribusinya left skewed dengan kebanyakan tahun publikasi pada tahun 1990 sampai tahun 2000."
      ]
    },
    {
      "cell_type": "markdown",
      "id": "374dddeb",
      "metadata": {
        "id": "374dddeb"
      },
      "source": [
        "visualisasi outliers age dan rating"
      ]
    },
    {
      "cell_type": "code",
      "execution_count": 14,
      "id": "044873c2",
      "metadata": {
        "colab": {
          "base_uri": "https://localhost:8080/",
          "height": 607
        },
        "id": "044873c2",
        "outputId": "7ca2efb2-0520-453a-82ee-cd03a3dd4700"
      },
      "outputs": [
        {
          "output_type": "display_data",
          "data": {
            "text/plain": [
              "<Figure size 1200x600 with 2 Axes>"
            ],
            "image/png": "[encoded data removed]"
          },
          "metadata": {}
        }
      ],
      "source": [
        "# Membuat visualisasi boxplot untuk Age dan Rating\n",
        "plt.figure(figsize=(12, 6))\n",
        "\n",
        "# Boxplot untuk Age\n",
        "plt.subplot(1, 2, 1)\n",
        "sns.boxplot(y='Age', data=df)\n",
        "plt.title('Boxplot Age')\n",
        "\n",
        "# Boxplot untuk Rating\n",
        "plt.subplot(1, 2, 2)\n",
        "sns.boxplot(y='Book-Rating', data=df)\n",
        "plt.title('Boxplot Rating')\n",
        "\n",
        "plt.tight_layout()\n",
        "plt.show()\n"
      ]
    },
    {
      "cell_type": "markdown",
      "id": "a8fdaa72",
      "metadata": {
        "id": "a8fdaa72"
      },
      "source": [
        "berdasarkan gambar diatas bahwa terdapat banyak nilai outliers pada age."
      ]
    },
    {
      "cell_type": "markdown",
      "id": "5b68445e",
      "metadata": {
        "id": "5b68445e"
      },
      "source": [
        "### Data Preprocessing"
      ]
    },
    {
      "cell_type": "markdown",
      "id": "e514a8b0",
      "metadata": {
        "id": "e514a8b0"
      },
      "source": [
        "handling missing value"
      ]
    },
    {
      "cell_type": "code",
      "execution_count": 15,
      "id": "bdbe869c",
      "metadata": {
        "id": "bdbe869c"
      },
      "outputs": [],
      "source": [
        "# Mengubah nilai null pada kolom 'Age' menggunakan teknik inputasi\n",
        "from sklearn.impute import KNNImputer\n",
        "imputer = KNNImputer(n_neighbors=5)\n",
        "df[['Age']] = imputer.fit_transform(df[['Age']])"
      ]
    },
    {
      "cell_type": "markdown",
      "id": "71316860",
      "metadata": {
        "id": "71316860"
      },
      "source": [
        "handling outliers"
      ]
    },
    {
      "cell_type": "code",
      "execution_count": 16,
      "id": "61b0f669",
      "metadata": {
        "id": "61b0f669"
      },
      "outputs": [],
      "source": [
        "# menghilangkan data outliers\n",
        "Q1 = df['Age'].quantile(0.25)\n",
        "Q3 = df['Age'].quantile(0.75)\n",
        "IQR = Q3 - Q1\n",
        "\n",
        "lower_bound = Q1 - 1.5 * IQR\n",
        "upper_bound = Q3 + 1.5 * IQR\n",
        "\n",
        "df_clean = df[~((df['Age'] < lower_bound) | (df['Age'] > upper_bound))]"
      ]
    },
    {
      "cell_type": "code",
      "source": [
        "df_clean.info()"
      ],
      "metadata": {
        "colab": {
          "base_uri": "https://localhost:8080/"
        },
        "id": "ukekuNWyThl7",
        "outputId": "09d65f8b-87e3-4c84-e063-9cf9ed772c88"
      },
      "id": "ukekuNWyThl7",
      "execution_count": 17,
      "outputs": [
        {
          "output_type": "stream",
          "name": "stdout",
          "text": [
            "<class 'pandas.core.frame.DataFrame'>\n",
            "Index: 24998 entries, 0 to 26867\n",
            "Data columns (total 10 columns):\n",
            " #   Column               Non-Null Count  Dtype  \n",
            "---  ------               --------------  -----  \n",
            " 0   User-ID              24998 non-null  int64  \n",
            " 1   ISBN                 24998 non-null  object \n",
            " 2   Book-Rating          24998 non-null  int64  \n",
            " 3   Book-Title           24998 non-null  object \n",
            " 4   Book-Author          24998 non-null  object \n",
            " 5   Year-Of-Publication  24998 non-null  int64  \n",
            " 6   Publisher            24998 non-null  object \n",
            " 7   Image-URL-L          24998 non-null  object \n",
            " 8   Location             24998 non-null  object \n",
            " 9   Age                  24998 non-null  float64\n",
            "dtypes: float64(1), int64(3), object(6)\n",
            "memory usage: 2.1+ MB\n"
          ]
        }
      ]
    },
    {
      "cell_type": "markdown",
      "id": "79a3e229",
      "metadata": {
        "id": "79a3e229"
      },
      "source": [
        "### Modeling"
      ]
    },
    {
      "cell_type": "markdown",
      "id": "1cff72e7",
      "metadata": {
        "id": "1cff72e7"
      },
      "source": [
        "#### model Collaborative Filtering"
      ]
    },
    {
      "cell_type": "code",
      "execution_count": 18,
      "id": "fb3de879",
      "metadata": {
        "colab": {
          "base_uri": "https://localhost:8080/"
        },
        "id": "fb3de879",
        "outputId": "3a65265c-e403-4c52-82a1-dd2973c65743"
      },
      "outputs": [
        {
          "output_type": "stream",
          "name": "stdout",
          "text": [
            "Collecting surprise\n",
            "  Downloading surprise-0.1-py2.py3-none-any.whl.metadata (327 bytes)\n",
            "Collecting scikit-surprise (from surprise)\n",
            "  Downloading scikit_surprise-1.1.4.tar.gz (154 kB)\n",
            "\u001b[?25l     \u001b[90m━━━━━━━━━━━━━━━━━━━━━━━━━━━━━━━━━━━━━━━━\u001b[0m \u001b[32m0.0/154.4 kB\u001b[0m \u001b[31m?\u001b[0m eta \u001b[36m-:--:--\u001b[0m\r\u001b[2K     \u001b[91m━━━━━━━━━━━━━━━━━━\u001b[0m\u001b[91m╸\u001b[0m\u001b[90m━━━━━━━━━━━━━━━━━━━━━\u001b[0m \u001b[32m71.7/154.4 kB\u001b[0m \u001b[31m2.6 MB/s\u001b[0m eta \u001b[36m0:00:01\u001b[0m\r\u001b[2K     \u001b[90m━━━━━━━━━━━━━━━━━━━━━━━━━━━━━━━━━━━━━━━━\u001b[0m \u001b[32m154.4/154.4 kB\u001b[0m \u001b[31m3.0 MB/s\u001b[0m eta \u001b[36m0:00:00\u001b[0m\n",
            "\u001b[?25h  Installing build dependencies ... \u001b[?25l\u001b[?25hdone\n",
            "  Getting requirements to build wheel ... \u001b[?25l\u001b[?25hdone\n",
            "  Preparing metadata (pyproject.toml) ... \u001b[?25l\u001b[?25hdone\n",
            "Requirement already satisfied: joblib>=1.2.0 in /usr/local/lib/python3.10/dist-packages (from scikit-surprise->surprise) (1.4.2)\n",
            "Requirement already satisfied: numpy>=1.19.5 in /usr/local/lib/python3.10/dist-packages (from scikit-surprise->surprise) (1.26.4)\n",
            "Requirement already satisfied: scipy>=1.6.0 in /usr/local/lib/python3.10/dist-packages (from scikit-surprise->surprise) (1.13.1)\n",
            "Downloading surprise-0.1-py2.py3-none-any.whl (1.8 kB)\n",
            "Building wheels for collected packages: scikit-surprise\n",
            "  Building wheel for scikit-surprise (pyproject.toml) ... \u001b[?25l\u001b[?25hdone\n",
            "  Created wheel for scikit-surprise: filename=scikit_surprise-1.1.4-cp310-cp310-linux_x86_64.whl size=2357268 sha256=25b976a3368e8b9a86c447cb02ef2b6b8196ff41c3f5745fb891674359c1cfe4\n",
            "  Stored in directory: /root/.cache/pip/wheels/4b/3f/df/6acbf0a40397d9bf3ff97f582cc22fb9ce66adde75bc71fd54\n",
            "Successfully built scikit-surprise\n",
            "Installing collected packages: scikit-surprise, surprise\n",
            "Successfully installed scikit-surprise-1.1.4 surprise-0.1\n"
          ]
        }
      ],
      "source": [
        "%pip install surprise"
      ]
    },
    {
      "cell_type": "markdown",
      "source": [
        "Metode ini memanfaatkan data dari pengguna lain untuk memberikan rekomendasi. Dalam hal ini, model SVD (Singular Value Decomposition) digunakan untuk memprediksi rating buku berdasarkan pola rating dari pengguna lain."
      ],
      "metadata": {
        "id": "wcZqNzgi2Hv3"
      },
      "id": "wcZqNzgi2Hv3"
    },
    {
      "cell_type": "markdown",
      "source": [
        "Inisialisasi data dan skala rating untuk Collaborative Filtering"
      ],
      "metadata": {
        "id": "boxRFCrm485P"
      },
      "id": "boxRFCrm485P"
    },
    {
      "cell_type": "code",
      "execution_count": 19,
      "id": "6c74ffcf",
      "metadata": {
        "id": "6c74ffcf"
      },
      "outputs": [],
      "source": [
        "from surprise import SVD, Dataset, Reader\n",
        "from surprise.model_selection import train_test_split\n",
        "from surprise import accuracy\n",
        "\n",
        "reader = Reader(rating_scale=(1, 10))\n",
        "data = Dataset.load_from_df(df_clean[['User-ID', 'ISBN', 'Book-Rating']], reader)\n",
        "\n"
      ]
    },
    {
      "cell_type": "markdown",
      "source": [
        "Membagi data menjadi train dan test set dengan perbandingan 80:20"
      ],
      "metadata": {
        "id": "X1aAso6T_Nl3"
      },
      "id": "X1aAso6T_Nl3"
    },
    {
      "cell_type": "code",
      "source": [
        "trainset, testset = train_test_split(data, test_size=0.2, random_state=42)"
      ],
      "metadata": {
        "id": "CAnaPCFj_C2N"
      },
      "id": "CAnaPCFj_C2N",
      "execution_count": 20,
      "outputs": []
    },
    {
      "cell_type": "markdown",
      "source": [
        "membuat model SVD dengan parameter n_factor bernilai defaut yaitu 100 dan n_epochs  bernilai default yaitu 20."
      ],
      "metadata": {
        "id": "OOf646Mc_XwI"
      },
      "id": "OOf646Mc_XwI"
    },
    {
      "cell_type": "code",
      "source": [
        "svd_model = SVD()\n",
        "svd_model.fit(trainset)"
      ],
      "metadata": {
        "colab": {
          "base_uri": "https://localhost:8080/"
        },
        "id": "NTilULBm_Wj4",
        "outputId": "e8514d00-7926-4977-b06e-f4afb72eea30"
      },
      "id": "NTilULBm_Wj4",
      "execution_count": 21,
      "outputs": [
        {
          "output_type": "execute_result",
          "data": {
            "text/plain": [
              "<surprise.prediction_algorithms.matrix_factorization.SVD at 0x7a3ee05c7430>"
            ]
          },
          "metadata": {},
          "execution_count": 21
        }
      ]
    },
    {
      "cell_type": "markdown",
      "source": [
        " Melakukan prediksi pada test set"
      ],
      "metadata": {
        "id": "g4ZwJE3O_n3p"
      },
      "id": "g4ZwJE3O_n3p"
    },
    {
      "cell_type": "code",
      "source": [
        "predictions = svd_model.test(testset)"
      ],
      "metadata": {
        "id": "FYBxEJWu_Cr2"
      },
      "id": "FYBxEJWu_Cr2",
      "execution_count": 22,
      "outputs": []
    },
    {
      "cell_type": "markdown",
      "source": [
        "Evaluasi Collaborative Filtering menggunakan RMSE dan MSE"
      ],
      "metadata": {
        "id": "LvNZhRGCWIrk"
      },
      "id": "LvNZhRGCWIrk"
    },
    {
      "cell_type": "code",
      "source": [
        "rmse = accuracy.rmse(predictions)\n",
        "mae = accuracy.mae(predictions)"
      ],
      "metadata": {
        "colab": {
          "base_uri": "https://localhost:8080/"
        },
        "id": "yitwlhVPWCwE",
        "outputId": "0c423ae3-0c2f-45a3-c6b9-2e22a56db793"
      },
      "id": "yitwlhVPWCwE",
      "execution_count": 23,
      "outputs": [
        {
          "output_type": "stream",
          "name": "stdout",
          "text": [
            "RMSE: 3.6087\n",
            "MAE:  3.1681\n"
          ]
        }
      ]
    },
    {
      "cell_type": "markdown",
      "source": [
        "membuat fungsi rekomendasi"
      ],
      "metadata": {
        "id": "EtV4hA7xWJ7O"
      },
      "id": "EtV4hA7xWJ7O"
    },
    {
      "cell_type": "code",
      "source": [
        "def recommend_books(user_id, n=10):\n",
        "    # List all unique book titles\n",
        "    all_books = df_clean['Book-Title'].unique()\n",
        "\n",
        "    # Remove books already rated by the user\n",
        "    rated_books = df_clean[df_clean['User-ID'] == user_id]['Book-Title'].values\n",
        "    books_to_predict = [book for book in all_books if book not in rated_books]\n",
        "\n",
        "    # Predict ratings for remaining books\n",
        "    predictions = []\n",
        "    for book in books_to_predict:\n",
        "        pred = svd_model.predict(user_id, book)\n",
        "        predictions.append((book, pred.est))\n",
        "\n",
        "    # Sort predictions by estimated rating\n",
        "    predictions.sort(key=lambda x: x[1], reverse=True)\n",
        "\n",
        "    # Get top N recommendations\n",
        "    top_n = predictions[:n]\n",
        "    print(f\"Top 10 rekomendasi buku untuk user {user_id}:\")\n",
        "    # Iterate through 'top_n' instead of 'recommended_books'\n",
        "    for i, (title, _) in enumerate(top_n, start=1):\n",
        "        print(f\"{i}. {title}\")\n",
        "    return top_n"
      ],
      "metadata": {
        "id": "fBCxYuzoWQkd"
      },
      "id": "fBCxYuzoWQkd",
      "execution_count": 24,
      "outputs": []
    },
    {
      "cell_type": "markdown",
      "source": [
        "inference"
      ],
      "metadata": {
        "id": "sp8ktrVv4zyu"
      },
      "id": "sp8ktrVv4zyu"
    },
    {
      "cell_type": "code",
      "source": [
        "user_id = 271705\n",
        "recommended_books = recommend_books(user_id)\n"
      ],
      "metadata": {
        "colab": {
          "base_uri": "https://localhost:8080/"
        },
        "id": "FMehHDgaWCpM",
        "outputId": "c79fcb31-b146-4801-88de-af9eebe91af7"
      },
      "id": "FMehHDgaWCpM",
      "execution_count": 25,
      "outputs": [
        {
          "output_type": "stream",
          "name": "stdout",
          "text": [
            "Top 10 rekomendasi buku untuk user 271705:\n",
            "1. Night of the Ripper\n",
            "2. Windmills of the Gods\n",
            "3. Assassins: Assignment: Jerusalem, Target: Antichrist (Left Behind No. 6)\n",
            "4. Welcome to Dead House (Goosebumps, No 1)\n",
            "5. Breathing Room (Avon Romance)\n",
            "6. The Arch Conspirator\n",
            "7. Marrying Money (Silhouette Romance, No 1519)\n",
            "8. Solemn Oath (Er Trilogy)\n",
            "9. Show of Evil\n",
            "10. The Lions of Al-Rassan\n"
          ]
        }
      ]
    }
  ],
  "metadata": {
    "kernelspec": {
      "display_name": "Python 3",
      "name": "python3"
    },
    "language_info": {
      "codemirror_mode": {
        "name": "ipython",
        "version": 3
      },
      "file_extension": ".py",
      "mimetype": "text/x-python",
      "name": "python",
      "nbconvert_exporter": "python",
      "pygments_lexer": "ipython3",
      "version": "3.12.7"
    },
    "papermill": {
      "default_parameters": {},
      "duration": 17.862312,
      "end_time": "2022-10-28T17:16:08.440030",
      "environment_variables": {},
      "exception": null,
      "input_path": "__notebook__.ipynb",
      "output_path": "__notebook__.ipynb",
      "parameters": {},
      "start_time": "2022-10-28T17:15:50.577718",
      "version": "2.3.4"
    },
    "colab": {
      "provenance": []
    }
  },
  "nbformat": 4,
  "nbformat_minor": 5
}